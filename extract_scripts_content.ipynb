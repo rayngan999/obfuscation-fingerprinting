{
 "cells": [
  {
   "cell_type": "code",
   "execution_count": 1,
   "metadata": {},
   "outputs": [],
   "source": [
    "import common as cm\n",
    "import os\n",
    "import sqlite3\n",
    "import pandas as pd\n",
    "from multiprocessing import Pool as ThreadPool\n",
    "import jsbeautifier\n",
    "import utilities"
   ]
  },
  {
   "cell_type": "code",
   "execution_count": 2,
   "metadata": {},
   "outputs": [],
   "source": [
    "# base_directory = '/Users/uiqbal/Documents/work/data/crawl_20K/'\n",
    "base_directory = '/mnt/data_6tb/macbook/crawl_20K/'"
   ]
  },
  {
   "cell_type": "code",
   "execution_count": 3,
   "metadata": {},
   "outputs": [],
   "source": [
    "# Connect to content database\n",
    "ldb = cm.get_leveldb(os.path.join(base_directory, 'content.ldb'))"
   ]
  },
  {
   "cell_type": "code",
   "execution_count": 4,
   "metadata": {},
   "outputs": [],
   "source": [
    "con = sqlite3.connect(os.path.join(base_directory, 'crawl-data.sqlite'))\n",
    "cur = con.cursor()\n",
    "cm.optimize_db(cur)"
   ]
  },
  {
   "cell_type": "code",
   "execution_count": 5,
   "metadata": {
    "scrolled": true
   },
   "outputs": [
    {
     "name": "stdout",
     "output_type": "stream",
     "text": [
      "CREATE INDEX http_responses\n",
      "Finished adding visit_id index to the table http_responses\n",
      "CREATE INDEX http_requests\n",
      "Finished adding visit_id index to the table http_requests\n",
      "CREATE INDEX javascript\n",
      "Finished adding visit_id index to the table javascript\n"
     ]
    }
   ],
   "source": [
    "cm.create_visit_id_index(cur, \"http_responses\")\n",
    "cm.create_visit_id_index(cur, \"http_requests\")\n",
    "cm.create_visit_id_index(cur, \"javascript\")\n",
    "cur.execute(\"CREATE INDEX IF NOT EXISTS javascript_script_url ON javascript(script_url);\")\n",
    "con.commit()"
   ]
  },
  {
   "cell_type": "code",
   "execution_count": 6,
   "metadata": {},
   "outputs": [],
   "source": [
    "js_id_urls = pd.read_sql('SELECT distinct visit_id, script_url FROM javascript', con=con)"
   ]
  },
  {
   "cell_type": "code",
   "execution_count": 8,
   "metadata": {},
   "outputs": [],
   "source": [
    "def get_url_content_hash(url, sqlite_cur, visit_id=None):\n",
    "    \"\"\"Return javascript content for given url.\n",
    "\n",
    "    Parameters\n",
    "    ----------\n",
    "    url : str\n",
    "        url to search content hash for\n",
    "    sqlite_cur : sqlite3.Cursor\n",
    "        cursor for crawl database\n",
    "    visit_id : int\n",
    "        (optional) `visit_id` of the page visit where this URL was loaded\n",
    "    \"\"\"\n",
    "    if visit_id is not None:\n",
    "        sqlite_cur.execute(\n",
    "            \"SELECT content_hash FROM http_responses WHERE \"\n",
    "            \"visit_id = ? AND url = ? LIMIT 1;\", (visit_id, url))\n",
    "    else:\n",
    "        sqlite_cur.execute(\n",
    "            \"SELECT content_hash FROM http_responses WHERE url = ? LIMIT 1;\",\n",
    "            (url,))\n",
    "    content_hash = sqlite_cur.fetchone()\n",
    "    if content_hash is None or len(content_hash) == 0 or content_hash[0] is None or content_hash[0].strip() == '':\n",
    "#         print(\"Content hash not found for url %s\" % url)\n",
    "        return ''\n",
    "    return content_hash[0]"
   ]
  },
  {
   "cell_type": "code",
   "execution_count": 9,
   "metadata": {},
   "outputs": [],
   "source": [
    "js_id_urls['content_hash'] = js_id_urls.apply(\n",
    "    axis=1,\n",
    "    func=lambda x: get_url_content_hash(x['script_url'], cur, visit_id=x['visit_id'])\n",
    ")"
   ]
  },
  {
   "cell_type": "code",
   "execution_count": 10,
   "metadata": {},
   "outputs": [],
   "source": [
    "def get_content_policy_type(url, sqlite_cur, visit_id=None):\n",
    "    \"\"\"Return content policy type for given url.\n",
    "\n",
    "    Parameters\n",
    "    ----------\n",
    "    url : str\n",
    "        url to search content hash for\n",
    "    sqlite_cur : sqlite3.Cursor\n",
    "        cursor for crawl database\n",
    "    visit_id : int\n",
    "        (optional) `visit_id` of the page visit where this URL was loaded\n",
    "    \"\"\"\n",
    "    if visit_id is not None:\n",
    "        sqlite_cur.execute(\n",
    "            \"SELECT content_policy_type FROM http_requests WHERE \"\n",
    "            \"visit_id = ? AND url = ? LIMIT 1;\", (visit_id, url))\n",
    "    else:\n",
    "        sqlite_cur.execute(\n",
    "            \"SELECT content_policy_type FROM http_requests WHERE url = ? LIMIT 1;\",\n",
    "            (url,))\n",
    "    content_policy_type = sqlite_cur.fetchone()\n",
    "    if content_policy_type is None or len(content_policy_type) == 0:\n",
    "#         print(\"Content policy type not found for url %s\" % url)\n",
    "        return -1\n",
    "    return content_policy_type[0]"
   ]
  },
  {
   "cell_type": "code",
   "execution_count": 11,
   "metadata": {},
   "outputs": [],
   "source": [
    "js_id_urls['content_policy_type'] = js_id_urls.apply(\n",
    "    axis=1,\n",
    "    func=lambda x: get_content_policy_type(x['script_url'], cur, visit_id=x['visit_id'])\n",
    ")"
   ]
  },
  {
   "cell_type": "code",
   "execution_count": 12,
   "metadata": {},
   "outputs": [
    {
     "name": "stdout",
     "output_type": "stream",
     "text": [
      "(417846, 4)\n",
      "Index(['visit_id', 'script_url', 'content_hash', 'content_policy_type'], dtype='object')\n",
      "No content hash:  14087\n",
      "No script url:  11316\n",
      "No content policy type:  13943\n"
     ]
    }
   ],
   "source": [
    "print(js_id_urls.shape)\n",
    "print(js_id_urls.columns)\n",
    "print('No content hash: ', (js_id_urls['content_hash'].values == '').sum())\n",
    "print('No script url: ', (js_id_urls['script_url'].values == '').sum())\n",
    "# print('No visit id: ', (js_id_urls['visit_id'].values == None).sum())\n",
    "print('No content policy type: ', (js_id_urls['content_policy_type'].values == -1).sum())\n",
    "# print(js_id_urls.isnull().sum(axis = 0))\n",
    "# print(list(js_id_urls['content_policy_type'].unique()))"
   ]
  },
  {
   "cell_type": "code",
   "execution_count": 57,
   "metadata": {},
   "outputs": [
    {
     "name": "stdout",
     "output_type": "stream",
     "text": [
      "Empty DataFrame\n",
      "Columns: [visit_id, script_url, content_hash, content_policy_type, eval_function_presence, id]\n",
      "Index: []\n"
     ]
    }
   ],
   "source": [
    "print(js_id_urls[(js_id_urls['content_hash'] != '') & (js_id_urls['content_policy_type'] == -1)])\n",
    "# print(js_id_urls)"
   ]
  },
  {
   "cell_type": "code",
   "execution_count": 116,
   "metadata": {},
   "outputs": [
    {
     "name": "stdout",
     "output_type": "stream",
     "text": [
      "      visit_id script_url                   top_level_url  \\\n",
      "0           55                       https://sinoptik.ua/   \n",
      "1          394                 https://www.goal.com/en-us   \n",
      "2          394                 https://www.goal.com/en-us   \n",
      "3          394                 https://www.goal.com/en-us   \n",
      "4          394                 https://www.goal.com/en-us   \n",
      "5          394                 https://www.goal.com/en-us   \n",
      "6          394                 https://www.goal.com/en-us   \n",
      "7          394                 https://www.goal.com/en-us   \n",
      "8          394                 https://www.goal.com/en-us   \n",
      "9          394                 https://www.goal.com/en-us   \n",
      "10         394                 https://www.goal.com/en-us   \n",
      "11         394                 https://www.goal.com/en-us   \n",
      "12         401                     https://saglik.gov.tr/   \n",
      "13         546             https://www.mismarcadores.com/   \n",
      "14         546             https://www.mismarcadores.com/   \n",
      "15         546             https://www.mismarcadores.com/   \n",
      "16         613                  https://www.tugaflix.com/   \n",
      "17         613                  https://www.tugaflix.com/   \n",
      "18         692                      http://gmarket.co.kr/   \n",
      "19         692                      http://gmarket.co.kr/   \n",
      "20         692                      http://gmarket.co.kr/   \n",
      "21         692                      http://gmarket.co.kr/   \n",
      "22         692                      http://gmarket.co.kr/   \n",
      "23         907                    http://dhakasports.com/   \n",
      "24         907                    http://dhakasports.com/   \n",
      "25         935                https://eurostreaming.pink/   \n",
      "26         935                https://eurostreaming.pink/   \n",
      "27         953                 https://www.swagbucks.com/   \n",
      "28         953                 https://www.swagbucks.com/   \n",
      "29         953                 https://www.swagbucks.com/   \n",
      "...        ...        ...                             ...   \n",
      "4808     19848                 https://www.forextime.com/   \n",
      "4809     19848                 https://www.forextime.com/   \n",
      "4810     19848                 https://www.forextime.com/   \n",
      "4811     19848                 https://www.forextime.com/   \n",
      "4812     19848                 https://www.forextime.com/   \n",
      "4813     19848                 https://www.forextime.com/   \n",
      "4814     19848                 https://www.forextime.com/   \n",
      "4815     19848                 https://www.forextime.com/   \n",
      "4816     19848                 https://www.forextime.com/   \n",
      "4817     19848                 https://www.forextime.com/   \n",
      "4818     19848                 https://www.forextime.com/   \n",
      "4819     19848                 https://www.forextime.com/   \n",
      "4820     19848                 https://www.forextime.com/   \n",
      "4821     19848                 https://www.forextime.com/   \n",
      "4822     19848                 https://www.forextime.com/   \n",
      "4823     19848                 https://www.forextime.com/   \n",
      "4824     19848                 https://www.forextime.com/   \n",
      "4825     19848                 https://www.forextime.com/   \n",
      "4826     19848                 https://www.forextime.com/   \n",
      "4827     19848                 https://www.forextime.com/   \n",
      "4828     19848                 https://www.forextime.com/   \n",
      "4829     19848                 https://www.forextime.com/   \n",
      "4830     19848                 https://www.forextime.com/   \n",
      "4831     19848                 https://www.forextime.com/   \n",
      "4832     19848                 https://www.forextime.com/   \n",
      "4833     19848                 https://www.forextime.com/   \n",
      "4834     19848                 https://www.forextime.com/   \n",
      "4835     19969                            https://cbi.ir/   \n",
      "4836     19995                         http://javboi.com/   \n",
      "4837     19995                         http://javboi.com/   \n",
      "\n",
      "                                     symbol  \\\n",
      "0                             Node.toString   \n",
      "1                   Document.createTextNode   \n",
      "2                       window.localStorage   \n",
      "3                    window.Storage.getItem   \n",
      "4                    Document.createElement   \n",
      "5             Document.getElementsByTagName   \n",
      "6                          Node.appendChild   \n",
      "7                       window.localStorage   \n",
      "8                    window.Storage.setItem   \n",
      "9                       window.localStorage   \n",
      "10                   window.Storage.setItem   \n",
      "11                      window.localStorage   \n",
      "12    RTCPeerConnection.setLocalDescription   \n",
      "13                    Node.addEventListener   \n",
      "14                    Node.addEventListener   \n",
      "15                    Node.addEventListener   \n",
      "16    RTCPeerConnection.setLocalDescription   \n",
      "17    RTCPeerConnection.setLocalDescription   \n",
      "18                       Node.ownerDocument   \n",
      "19                            Node.nodeName   \n",
      "20                  Document.getElementById   \n",
      "21                          Node.parentNode   \n",
      "22                  Document.getElementById   \n",
      "23    RTCPeerConnection.setLocalDescription   \n",
      "24    RTCPeerConnection.setLocalDescription   \n",
      "25    RTCPeerConnection.setLocalDescription   \n",
      "26    RTCPeerConnection.setLocalDescription   \n",
      "27             EventTarget.addEventListener   \n",
      "28                      Node.hasOwnProperty   \n",
      "29                    Node.addEventListener   \n",
      "...                                     ...   \n",
      "4808                    Node.hasOwnProperty   \n",
      "4809                  Node.addEventListener   \n",
      "4810               Node.removeEventListener   \n",
      "4811                  Node.addEventListener   \n",
      "4812                  Node.addEventListener   \n",
      "4813                  Node.addEventListener   \n",
      "4814                  Node.addEventListener   \n",
      "4815                    Node.hasOwnProperty   \n",
      "4816                  Node.addEventListener   \n",
      "4817                  Node.addEventListener   \n",
      "4818                  Node.addEventListener   \n",
      "4819                  Node.addEventListener   \n",
      "4820                  Node.addEventListener   \n",
      "4821                  Node.addEventListener   \n",
      "4822                  Node.addEventListener   \n",
      "4823                  Node.addEventListener   \n",
      "4824                  Node.addEventListener   \n",
      "4825                  Node.addEventListener   \n",
      "4826                  Node.addEventListener   \n",
      "4827                  Node.addEventListener   \n",
      "4828                  Node.addEventListener   \n",
      "4829                  Node.addEventListener   \n",
      "4830                  Node.addEventListener   \n",
      "4831                  Node.addEventListener   \n",
      "4832                  Node.addEventListener   \n",
      "4833                        Node.parentNode   \n",
      "4834                       Node.removeChild   \n",
      "4835  RTCPeerConnection.setLocalDescription   \n",
      "4836  RTCPeerConnection.setLocalDescription   \n",
      "4837  RTCPeerConnection.setLocalDescription   \n",
      "\n",
      "                                              arguments  \\\n",
      "0                                                  None   \n",
      "1                                              {\"0\":\"\"}   \n",
      "2                                                  None   \n",
      "3                             {\"0\":\"performIdCacheKey\"}   \n",
      "4                                        {\"0\":\"script\"}   \n",
      "5                                          {\"0\":\"head\"}   \n",
      "6                               {\"0\":\"\\\"NULL/SCRIPT\\\"\"}   \n",
      "7                                                  None   \n",
      "8     {\"0\":\"performIdCacheKey\",\"1\":\"{\\\"id\\\":\\\"x+tR/F...   \n",
      "9                                                  None   \n",
      "10    {\"0\":\"performIdCacheKey\",\"1\":\"{\\\"id\\\":\\\"E9aym4...   \n",
      "11                                                 None   \n",
      "12    {\"0\":\"{\\\"type\\\":\\\"offer\\\",\\\"sdp\\\":\\\"v=0\\\\r\\\\no...   \n",
      "13    {\"0\":\"mousemove\",\"1\":\"FUNCTION\",\"2\":\"{\\\"passiv...   \n",
      "14    {\"0\":\"click\",\"1\":\"FUNCTION\",\"2\":\"{\\\"passive\\\":...   \n",
      "15                {\"0\":\"blur\",\"1\":\"FUNCTION\",\"2\":false}   \n",
      "16    {\"0\":\"{\\\"type\\\":\\\"offer\\\",\\\"sdp\\\":\\\"v=0\\\\r\\\\no...   \n",
      "17    {\"0\":\"{\\\"type\\\":\\\"offer\\\",\\\"sdp\\\":\\\"v=0\\\\r\\\\no...   \n",
      "18                                                 None   \n",
      "19                                                 None   \n",
      "20                            {\"0\":\"top-line-banner-t\"}   \n",
      "21                                                 None   \n",
      "22                                     {\"0\":\"getGeoIP\"}   \n",
      "23    {\"0\":\"{\\\"type\\\":\\\"offer\\\",\\\"sdp\\\":\\\"v=0\\\\r\\\\no...   \n",
      "24    {\"0\":\"{\\\"type\\\":\\\"offer\\\",\\\"sdp\\\":\\\"v=0\\\\r\\\\no...   \n",
      "25    {\"0\":\"{\\\"type\\\":\\\"offer\\\",\\\"sdp\\\":\\\"v=0\\\\r\\\\no...   \n",
      "26    {\"0\":\"{\\\"type\\\":\\\"offer\\\",\\\"sdp\\\":\\\"v=0\\\\r\\\\no...   \n",
      "27                                                 None   \n",
      "28                             {\"0\":\"addEventListener\"}   \n",
      "29                                                 None   \n",
      "...                                                 ...   \n",
      "4808                           {\"0\":\"addEventListener\"}   \n",
      "4809                                               None   \n",
      "4810                                               None   \n",
      "4811             {\"0\":\"click\",\"1\":\"FUNCTION\",\"2\":false}   \n",
      "4812             {\"0\":\"click\",\"1\":\"FUNCTION\",\"2\":false}   \n",
      "4813          {\"0\":\"keypress\",\"1\":\"FUNCTION\",\"2\":false}   \n",
      "4814          {\"0\":\"keypress\",\"1\":\"FUNCTION\",\"2\":false}   \n",
      "4815                           {\"0\":\"addEventListener\"}   \n",
      "4816            {\"0\":\"click\",\"1\":\"FUNCTION\",\"2\":\"null\"}   \n",
      "4817            {\"0\":\"click\",\"1\":\"FUNCTION\",\"2\":\"null\"}   \n",
      "4818                  {\"0\":\"touchstart\",\"1\":\"FUNCTION\"}   \n",
      "4819       {\"0\":\"touchstart\",\"1\":\"FUNCTION\",\"2\":\"null\"}   \n",
      "4820       {\"0\":\"touchstart\",\"1\":\"FUNCTION\",\"2\":\"null\"}   \n",
      "4821                   {\"0\":\"touchmove\",\"1\":\"FUNCTION\"}   \n",
      "4822        {\"0\":\"touchmove\",\"1\":\"FUNCTION\",\"2\":\"null\"}   \n",
      "4823        {\"0\":\"touchmove\",\"1\":\"FUNCTION\",\"2\":\"null\"}   \n",
      "4824                    {\"0\":\"touchend\",\"1\":\"FUNCTION\"}   \n",
      "4825         {\"0\":\"touchend\",\"1\":\"FUNCTION\",\"2\":\"null\"}   \n",
      "4826         {\"0\":\"touchend\",\"1\":\"FUNCTION\",\"2\":\"null\"}   \n",
      "4827     {\"0\":\"animationend\",\"1\":\"FUNCTION\",\"2\":\"null\"}   \n",
      "4828     {\"0\":\"animationend\",\"1\":\"FUNCTION\",\"2\":\"null\"}   \n",
      "4829  {\"0\":\"webkitAnimationEnd\",\"1\":\"FUNCTION\",\"2\":\"...   \n",
      "4830  {\"0\":\"webkitAnimationEnd\",\"1\":\"FUNCTION\",\"2\":\"...   \n",
      "4831    {\"0\":\"oanimationend\",\"1\":\"FUNCTION\",\"2\":\"null\"}   \n",
      "4832    {\"0\":\"oanimationend\",\"1\":\"FUNCTION\",\"2\":\"null\"}   \n",
      "4833                                               None   \n",
      "4834  {\"0\":\"\\\"BODY/DIV[1,tp-widget-wrapper,tp-widget...   \n",
      "4835  {\"0\":\"{\\\"type\\\":\\\"offer\\\",\\\"sdp\\\":\\\"v=0\\\\r\\\\no...   \n",
      "4836  {\"0\":\"{\\\"type\\\":\\\"offer\\\",\\\"sdp\\\":\\\"v=0\\\\r\\\\no...   \n",
      "4837  {\"0\":\"{\\\"type\\\":\\\"offer\\\",\\\"sdp\\\":\\\"v=0\\\\r\\\\no...   \n",
      "\n",
      "                                                  value script_line  \\\n",
      "0                                                                     \n",
      "1                                                                     \n",
      "2                                                    {}               \n",
      "3                                                                     \n",
      "4                                                                     \n",
      "5                                                                     \n",
      "6                                                                     \n",
      "7     {\"userLocation\":\"{\\\"timestamp\\\":1561154756056,...               \n",
      "8                                                                     \n",
      "9     {\"performIdCacheKey\":\"{\\\"id\\\":\\\"x+tR/FcW99e/x9...               \n",
      "10                                                                    \n",
      "11    {\"performIdCacheKey\":\"{\\\"id\\\":\\\"E9aym4cW99e/x9...               \n",
      "12                                                                    \n",
      "13                                                                    \n",
      "14                                                                    \n",
      "15                                                                    \n",
      "16                                                                    \n",
      "17                                                                    \n",
      "18                                                 null               \n",
      "19                                                 HTML               \n",
      "20                                                                    \n",
      "21                                               \"BODY\"               \n",
      "22                                                                    \n",
      "23                                                                    \n",
      "24                                                                    \n",
      "25                                                                    \n",
      "26                                                                    \n",
      "27                                             FUNCTION               \n",
      "28                                                                    \n",
      "29                                             FUNCTION               \n",
      "...                                                 ...         ...   \n",
      "4808                                                                  \n",
      "4809                                           FUNCTION               \n",
      "4810                                           FUNCTION               \n",
      "4811                                                                  \n",
      "4812                                                                  \n",
      "4813                                                                  \n",
      "4814                                                                  \n",
      "4815                                                                  \n",
      "4816                                                                  \n",
      "4817                                                                  \n",
      "4818                                                                  \n",
      "4819                                                                  \n",
      "4820                                                                  \n",
      "4821                                                                  \n",
      "4822                                                                  \n",
      "4823                                                                  \n",
      "4824                                                                  \n",
      "4825                                                                  \n",
      "4826                                                                  \n",
      "4827                                                                  \n",
      "4828                                                                  \n",
      "4829                                                                  \n",
      "4830                                                                  \n",
      "4831                                                                  \n",
      "4832                                                                  \n",
      "4833  \"BODY/DIV[1,tp-widget-wrapper,tp-widget-wrappe...               \n",
      "4834                                                                  \n",
      "4835                                                                  \n",
      "4836                                                                  \n",
      "4837                                                                  \n",
      "\n",
      "                                             script_col  \n",
      "0                                                        \n",
      "1     perform/performid/dist/performid.js\"]/e.export...  \n",
      "2     perform/performid/dist/performid.js\"]/e.export...  \n",
      "3     perform/performid/dist/performid.js\"]/e.export...  \n",
      "4     perform/performid/dist/performid.js\"]/e.export...  \n",
      "5     perform/performid/dist/performid.js\"]/e.export...  \n",
      "6     perform/performid/dist/performid.js\"]/e.export...  \n",
      "7     perform/performid/dist/performid.js\"]/e.export...  \n",
      "8     perform/performid/dist/performid.js\"]/e.export...  \n",
      "9     perform/performid/dist/performid.js\"]/e.export...  \n",
      "10    perform/performid/dist/performid.js\"]/e.export...  \n",
      "11    perform/performid/dist/performid.js\"]/e.export...  \n",
      "12                                                       \n",
      "13                                                       \n",
      "14                                                       \n",
      "15                                                       \n",
      "16                                                       \n",
      "17                                                       \n",
      "18                                                       \n",
      "19                                                       \n",
      "20                                                       \n",
      "21                                                       \n",
      "22                                                       \n",
      "23                                                       \n",
      "24                                                       \n",
      "25                                                       \n",
      "26                                                       \n",
      "27              sentry/utils/dist/object.js\"]</</n.fill  \n",
      "28    sentry/browser/dist/integrations/trycatch.js\"]...  \n",
      "29              sentry/utils/dist/object.js\"]</</n.fill  \n",
      "...                                                 ...  \n",
      "4808  sentry/browser/dist/integrations/trycatch.js\"]...  \n",
      "4809            sentry/utils/dist/object.js\"]</</i.fill  \n",
      "4810            sentry/utils/dist/object.js\"]</</i.fill  \n",
      "4811  sentry/browser/dist/integrations/breadcrumbs.j...  \n",
      "4812  sentry/browser/dist/integrations/trycatch.js\"]...  \n",
      "4813  sentry/browser/dist/integrations/breadcrumbs.j...  \n",
      "4814  sentry/browser/dist/integrations/trycatch.js\"]...  \n",
      "4815  sentry/browser/dist/integrations/breadcrumbs.j...  \n",
      "4816  sentry/browser/dist/integrations/breadcrumbs.j...  \n",
      "4817  sentry/browser/dist/integrations/trycatch.js\"]...  \n",
      "4818  trustpilot/trustbox-framework-vanilla/modules/...  \n",
      "4819  sentry/browser/dist/integrations/breadcrumbs.j...  \n",
      "4820  sentry/browser/dist/integrations/trycatch.js\"]...  \n",
      "4821  trustpilot/trustbox-framework-vanilla/modules/...  \n",
      "4822  sentry/browser/dist/integrations/breadcrumbs.j...  \n",
      "4823  sentry/browser/dist/integrations/trycatch.js\"]...  \n",
      "4824  trustpilot/trustbox-framework-vanilla/modules/...  \n",
      "4825  sentry/browser/dist/integrations/breadcrumbs.j...  \n",
      "4826  sentry/browser/dist/integrations/trycatch.js\"]...  \n",
      "4827  sentry/browser/dist/integrations/breadcrumbs.j...  \n",
      "4828  sentry/browser/dist/integrations/trycatch.js\"]...  \n",
      "4829  sentry/browser/dist/integrations/breadcrumbs.j...  \n",
      "4830  sentry/browser/dist/integrations/trycatch.js\"]...  \n",
      "4831  sentry/browser/dist/integrations/breadcrumbs.j...  \n",
      "4832  sentry/browser/dist/integrations/trycatch.js\"]...  \n",
      "4833  trustpilot/trustbox-framework-vanilla/modules/...  \n",
      "4834  trustpilot/trustbox-framework-vanilla/modules/...  \n",
      "4835                                                     \n",
      "4836                                                     \n",
      "4837                                                     \n",
      "\n",
      "[4838 rows x 8 columns]\n"
     ]
    }
   ],
   "source": [
    "js_data = pd.read_sql('SELECT distinct visit_id, script_url, top_level_url, symbol, \\\n",
    "                      arguments, value, script_line, script_col FROM javascript where script_url == \"\" \\\n",
    "                      and script_line != \"http\" and script_line != \"https\" \\\n",
    "                      and symbol != \"Node.nodeType\" ', con=con)"
   ]
  },
  {
   "cell_type": "code",
   "execution_count": 117,
   "metadata": {},
   "outputs": [
    {
     "name": "stdout",
     "output_type": "stream",
     "text": [
      "0                                                        \n",
      "1       perform/performid/dist/performid.js\"]/e.export...\n",
      "2       perform/performid/dist/performid.js\"]/e.export...\n",
      "3       perform/performid/dist/performid.js\"]/e.export...\n",
      "4       perform/performid/dist/performid.js\"]/e.export...\n",
      "5       perform/performid/dist/performid.js\"]/e.export...\n",
      "6       perform/performid/dist/performid.js\"]/e.export...\n",
      "7       perform/performid/dist/performid.js\"]/e.export...\n",
      "8       perform/performid/dist/performid.js\"]/e.export...\n",
      "9       perform/performid/dist/performid.js\"]/e.export...\n",
      "10      perform/performid/dist/performid.js\"]/e.export...\n",
      "11      perform/performid/dist/performid.js\"]/e.export...\n",
      "12                                                       \n",
      "13                                                       \n",
      "14                                                       \n",
      "15                                                       \n",
      "16                                                       \n",
      "17                                                       \n",
      "18                                                       \n",
      "19                                                       \n",
      "20                                                       \n",
      "21                                                       \n",
      "22                                                       \n",
      "23                                                       \n",
      "24                                                       \n",
      "25                                                       \n",
      "26                                                       \n",
      "27                sentry/utils/dist/object.js\"]</</n.fill\n",
      "28      sentry/browser/dist/integrations/trycatch.js\"]...\n",
      "29                sentry/utils/dist/object.js\"]</</n.fill\n",
      "                              ...                        \n",
      "4808    sentry/browser/dist/integrations/trycatch.js\"]...\n",
      "4809              sentry/utils/dist/object.js\"]</</i.fill\n",
      "4810              sentry/utils/dist/object.js\"]</</i.fill\n",
      "4811    sentry/browser/dist/integrations/breadcrumbs.j...\n",
      "4812    sentry/browser/dist/integrations/trycatch.js\"]...\n",
      "4813    sentry/browser/dist/integrations/breadcrumbs.j...\n",
      "4814    sentry/browser/dist/integrations/trycatch.js\"]...\n",
      "4815    sentry/browser/dist/integrations/breadcrumbs.j...\n",
      "4816    sentry/browser/dist/integrations/breadcrumbs.j...\n",
      "4817    sentry/browser/dist/integrations/trycatch.js\"]...\n",
      "4818    trustpilot/trustbox-framework-vanilla/modules/...\n",
      "4819    sentry/browser/dist/integrations/breadcrumbs.j...\n",
      "4820    sentry/browser/dist/integrations/trycatch.js\"]...\n",
      "4821    trustpilot/trustbox-framework-vanilla/modules/...\n",
      "4822    sentry/browser/dist/integrations/breadcrumbs.j...\n",
      "4823    sentry/browser/dist/integrations/trycatch.js\"]...\n",
      "4824    trustpilot/trustbox-framework-vanilla/modules/...\n",
      "4825    sentry/browser/dist/integrations/breadcrumbs.j...\n",
      "4826    sentry/browser/dist/integrations/trycatch.js\"]...\n",
      "4827    sentry/browser/dist/integrations/breadcrumbs.j...\n",
      "4828    sentry/browser/dist/integrations/trycatch.js\"]...\n",
      "4829    sentry/browser/dist/integrations/breadcrumbs.j...\n",
      "4830    sentry/browser/dist/integrations/trycatch.js\"]...\n",
      "4831    sentry/browser/dist/integrations/breadcrumbs.j...\n",
      "4832    sentry/browser/dist/integrations/trycatch.js\"]...\n",
      "4833    trustpilot/trustbox-framework-vanilla/modules/...\n",
      "4834    trustpilot/trustbox-framework-vanilla/modules/...\n",
      "4835                                                     \n",
      "4836                                                     \n",
      "4837                                                     \n",
      "Name: script_col, Length: 4838, dtype: object\n"
     ]
    }
   ],
   "source": [
    "print(js_data.script_col)"
   ]
  },
  {
   "cell_type": "code",
   "execution_count": 118,
   "metadata": {},
   "outputs": [
    {
     "name": "stdout",
     "output_type": "stream",
     "text": [
      "[2, 6, -1, 7, 5, 11, 3, 20, 4]\n"
     ]
    }
   ],
   "source": [
    "print(list(js_id_urls['content_policy_type'].unique()))"
   ]
  },
  {
   "cell_type": "code",
   "execution_count": 105,
   "metadata": {},
   "outputs": [],
   "source": [
    "def get_url_content(db, content_hash, compression='snappy', beautify=True):\n",
    "    \"\"\" Returns decompressed content from javascript leveldb database \"\"\"\n",
    "    if content_hash is None or content_hash == '':\n",
    "#         print(\"ERROR: content_hash can't be None or empty...\")\n",
    "        return\n",
    "    content = db.get(bytes(content_hash, encoding='UTF-8'))\n",
    "    if content is None:\n",
    "        print(\"ERROR: content hash: %s NOT FOUND\" % content_hash)\n",
    "        return\n",
    "    supported = ['snappy', 'none', 'gzip']\n",
    "    if compression not in supported:\n",
    "        print(\"Unsupported compression type %s. Only %s \"\n",
    "              \"are the supported options.\" % (compression, str(supported)))\n",
    "        return\n",
    "    elif compression == 'gzip':\n",
    "        try:\n",
    "            content = zlib.decompress(content, zlib.MAX_WBITS | 16)\n",
    "        except Exception:\n",
    "            try:\n",
    "                content = zlib.decompress(content)\n",
    "            except Exception:\n",
    "                print(\"Failed to decompress gzipped content...\")\n",
    "                return\n",
    "    if beautify:\n",
    "        return jsbeautifier.beautify(content)\n",
    "    else:\n",
    "        if b'eval(' in content or b'Function(' in content:\n",
    "            return True\n",
    "        return False\n",
    "#         return content"
   ]
  },
  {
   "cell_type": "code",
   "execution_count": 14,
   "metadata": {},
   "outputs": [],
   "source": [
    "js_id_urls['eval_function_presence'] = js_id_urls.apply(\n",
    "    axis=1,\n",
    "    func=lambda x: get_url_content(ldb, x['content_hash'], beautify=False)\n",
    ")"
   ]
  },
  {
   "cell_type": "code",
   "execution_count": 15,
   "metadata": {},
   "outputs": [
    {
     "name": "stdout",
     "output_type": "stream",
     "text": [
      "Eval:  258537\n",
      "Eval:  145222\n"
     ]
    }
   ],
   "source": [
    "print('Eval: ', (js_id_urls['eval_function_presence'].values == False).sum())\n",
    "print('Eval: ', (js_id_urls['eval_function_presence'].values == True).sum())"
   ]
  },
  {
   "cell_type": "code",
   "execution_count": 16,
   "metadata": {},
   "outputs": [
    {
     "name": "stdout",
     "output_type": "stream",
     "text": [
      "Index(['visit_id', 'script_url', 'content_hash', 'content_policy_type',\n",
      "       'eval_function_presence', 'id'],\n",
      "      dtype='object')\n"
     ]
    }
   ],
   "source": [
    "# add index\n",
    "js_id_urls['id'] = js_id_urls.index + 1\n",
    "print(js_id_urls.columns)"
   ]
  },
  {
   "cell_type": "code",
   "execution_count": 24,
   "metadata": {},
   "outputs": [
    {
     "data": {
      "text/plain": [
       " 2     335656\n",
       " 7      51673\n",
       " 6      16323\n",
       "-1      13943\n",
       " 11       155\n",
       " 5         71\n",
       " 20        16\n",
       " 3          8\n",
       " 4          1\n",
       "Name: content_policy_type, dtype: int64"
      ]
     },
     "execution_count": 24,
     "metadata": {},
     "output_type": "execute_result"
    }
   ],
   "source": [
    "js_id_urls.content_policy_type.value_counts()"
   ]
  },
  {
   "cell_type": "code",
   "execution_count": 112,
   "metadata": {},
   "outputs": [],
   "source": [
    "def get_url_content_2(db, content_hash, compression='snappy', beautify=True):\n",
    "    \"\"\" Returns decompressed content from javascript leveldb database \"\"\"\n",
    "    if content_hash is None or content_hash == '':\n",
    "#         print(\"ERROR: content_hash can't be None or empty...\")\n",
    "        return\n",
    "    content = db.get(bytes(content_hash, encoding='UTF-8'))\n",
    "    if content is None:\n",
    "        print(\"ERROR: content hash: %s NOT FOUND\" % content_hash)\n",
    "        return\n",
    "    supported = ['snappy', 'none', 'gzip']\n",
    "    if compression not in supported:\n",
    "        print(\"Unsupported compression type %s. Only %s \"\n",
    "              \"are the supported options.\" % (compression, str(supported)))\n",
    "        return\n",
    "    elif compression == 'gzip':\n",
    "        try:\n",
    "            content = zlib.decompress(content, zlib.MAX_WBITS | 16)\n",
    "        except Exception:\n",
    "            try:\n",
    "                content = zlib.decompress(content)\n",
    "            except Exception:\n",
    "                print(\"Failed to decompress gzipped content...\")\n",
    "                return\n",
    "    if beautify:\n",
    "        return jsbeautifier.beautify(content.decode(\"utf-8\"))\n",
    "    else:\n",
    "        return content"
   ]
  },
  {
   "cell_type": "code",
   "execution_count": 65,
   "metadata": {},
   "outputs": [],
   "source": [
    "for hash in list(js_id_urls[(js_id_urls['content_policy_type'].values == 4) & (js_id_urls['content_hash'].values != '')]['content_hash']):\n",
    "    print(get_url_content_2(ldb, hash))\n",
    "    break"
   ]
  },
  {
   "cell_type": "code",
   "execution_count": 111,
   "metadata": {},
   "outputs": [],
   "source": [
    "evaled_scripts_directory = os.path.join(base_directory, 'evaled_scripts')\n",
    "\n",
    "if not os.path.isdir(evaled_scripts_directory):\n",
    "    os.mkdir(evaled_scripts_directory)\n",
    "    \n",
    "def write_content(file_addr, content):\n",
    "    with open(file_addr, 'wb') as out_file:        \n",
    "        out_file.write(content) \n",
    "        \n",
    "def dump_html_js(content, file_name, js_or_html='js'):\n",
    "    if js_or_html == 'html':\n",
    "        write_content(os.path.join(evaled_scripts_directory, file_name + '.html'), content)\n",
    "    elif js_or_html == 'js':\n",
    "        write_content(os.path.join(evaled_scripts_directory, file_name + '.js'), content)\n",
    "        html_markup = \"\"\"\n",
    "<!doctype html>\n",
    "<html>\n",
    "    <head>\n",
    "    <title>Test page for script %s </title>\n",
    "          <script type=\"text/javascript\" src=\"%s\"></script>\n",
    "     </head>\n",
    "     <body>\n",
    "     </body>\n",
    " </html>\n",
    "\n",
    "\"\"\"\n",
    "        write_content(os.path.join(evaled_scripts_directory, file_name + '.html'), str.encode(html_markup % (file_name + '.js', file_name + '.js')))\n",
    "    \n",
    "    "
   ]
  },
  {
   "cell_type": "code",
   "execution_count": 110,
   "metadata": {},
   "outputs": [
    {
     "name": "stdout",
     "output_type": "stream",
     "text": [
      "Total files with eval (scripts, iframes) : (  53861 , 3080 )\n"
     ]
    }
   ],
   "source": [
    "def append_file(f_name, content_list):\n",
    "    with open(f_name, 'a') as out_file:\n",
    "        out_file.write(','.join(content_list)) \n",
    "        \n",
    "count_js = 0\n",
    "count_html = 0\n",
    "content_list = []\n",
    "\n",
    "for index, row in js_id_urls.drop_duplicates('content_hash').iterrows():\n",
    "    if row['content_hash'] != '' and row['eval_function_presence'] == True:\n",
    "        if row['content_policy_type'] == 7 or row['content_policy_type'] == 6:\n",
    "            dump_html_js(get_url_content_2(ldb, row['content_hash'], beautify=False), str(row['id']) + '_' + row['content_hash'], js_or_html='html')\n",
    "            count_html += 1\n",
    "            content_list.append(str(row['id']) + '_' + row['content_hash'] + '.html')\n",
    "        elif row['content_policy_type'] == 2 or row['content_policy_type'] == 11 or row['content_policy_type'] == 5:\n",
    "            dump_html_js(get_url_content_2(ldb, row['content_hash'], beautify=False), str(row['id']) + '_' + row['content_hash'], js_or_html='js')\n",
    "            count_js += 1\n",
    "            content_list.append(str(row['id']) + '_' + row['content_hash'] + '.html')\n",
    "\n",
    "print('Total files with eval (scripts, iframes) : ( ', str(count_js) + ' , ' + str(count_html) + ' )')\n",
    "append_file(os.path.join(base_directory, 'packed_files_names.txt'), content_list)\n",
    "js_id_urls.to_json(os.path.join(base_directory, 'js_id_urls_hash_content_type_mapping.json'))"
   ]
  },
  {
   "cell_type": "code",
   "execution_count": null,
   "metadata": {},
   "outputs": [],
   "source": []
  },
  {
   "cell_type": "code",
   "execution_count": 99,
   "metadata": {},
   "outputs": [],
   "source": [
    "# content_list = []\n",
    "# # only keep unique for processing evals\n",
    "# for index, row in js_id_urls.drop_duplicates().iterrows():\n",
    "#     if row['content_hash'] != '' and row['eval_function_presence'] == True:\n",
    "#         if row['content_policy_type'] == 7 or row['content_policy_type'] == 6:\n",
    "#             content_list.append(str(row['id']) + '.html')\n",
    "#         elif row['content_policy_type'] == 2 or row['content_policy_type'] == 11 or row['content_policy_type'] == 5:\n",
    "#             content_list.append(str(row['id']) + '.html')\n",
    "            \n",
    "# append_file(os.path.join(base_directory, 'packed_files_names.txt'), content_list)\n",
    "# js_id_urls.to_json(os.path.join(base_directory, 'js_id_urls_hash_content_type_mapping.json'))"
   ]
  },
  {
   "cell_type": "code",
   "execution_count": 14,
   "metadata": {},
   "outputs": [],
   "source": [
    "# def find_eval_or_Function(content):\n",
    "#     if 'eval(' in content or 'Function(' in content:\n",
    "#         return True\n",
    "#     return False\n",
    "# pool = ThreadPool(processes=7)\n",
    "# results = pool.map(find_eval_or_Function, js_id_urls['content'])\n",
    "# js_id_urls['eval_function_presence'] = [x for x in results]"
   ]
  },
  {
   "cell_type": "code",
   "execution_count": 3,
   "metadata": {},
   "outputs": [],
   "source": [
    "def read_df(file_name):\n",
    "    dataframe = pd.read_json(file_name)\n",
    "    return dataframe\n",
    "\n",
    "def write_content(file_addr, content):\n",
    "    with open(file_addr, 'wb') as out_file:        \n",
    "        out_file.write(content)\n",
    "\n",
    "non_evaled_scripts_directory =  os.path.join(base_directory, 'non_evaled_scripts')\n",
    "if not os.path.isdir(non_evaled_scripts_directory):\n",
    "    os.mkdir(non_evaled_scripts_directory)\n",
    "    "
   ]
  },
  {
   "cell_type": "code",
   "execution_count": 4,
   "metadata": {},
   "outputs": [],
   "source": [
    "js_id_hash_file = read_df(os.path.join(base_directory, 'js_id_urls_hash_content_type_mapping.json'))"
   ]
  },
  {
   "cell_type": "code",
   "execution_count": 5,
   "metadata": {},
   "outputs": [
    {
     "data": {
      "text/plain": [
       "Index(['visit_id', 'script_url', 'content_hash', 'content_policy_type',\n",
       "       'eval_function_presence', 'id'],\n",
       "      dtype='object')"
      ]
     },
     "execution_count": 5,
     "metadata": {},
     "output_type": "execute_result"
    }
   ],
   "source": [
    "js_id_hash_file.columns"
   ]
  },
  {
   "cell_type": "code",
   "execution_count": 6,
   "metadata": {},
   "outputs": [
    {
     "name": "stdout",
     "output_type": "stream",
     "text": [
      "Total files without eval:  3080\n"
     ]
    }
   ],
   "source": [
    "def write_file(f_name, content_list):\n",
    "    with open(f_name, 'a') as out_file:\n",
    "        for item in content_list:\n",
    "            out_file.write(item + '\\n') \n",
    "        \n",
    "count = 0\n",
    "content_list = []\n",
    "for index, row in js_id_hash_file.drop_duplicates('content_hash').iterrows():\n",
    "    if row['content_hash'] != '' and row['eval_function_presence'] == False and (row['content_policy_type'] == 7 or row['content_policy_type'] ==6):\n",
    "#         dump_html_js(get_url_content_2(ldb, row['content_hash'], beautify=False), str(row['id']) + '_' + row['content_hash'], js_or_html='html')\n",
    "#         content_list.append(str(row['id']) + '_' + row['content_hash'] + '.html')\n",
    "        count += 1\n",
    "        content_list.append(str(row['id']) + '_' + row['content_hash'] + '.html')\n",
    "        if count % 10000 == 0:\n",
    "            print('Processed so far: ', count)\n",
    "\n",
    "write_file(os.path.join(base_directory, 'iframe_file_names.txt'), content_list)\n",
    "print('Total files without eval: ', str(count))"
   ]
  },
  {
   "cell_type": "code",
   "execution_count": 7,
   "metadata": {},
   "outputs": [],
   "source": [
    "def read_df(file_name):\n",
    "    dataframe = pd.read_json(file_name)\n",
    "    return dataframe\n",
    "\n",
    "already_read = read_df(os.path.join(base_directory, 'js_id_urls_hash_content_type_mapping.json'))\n",
    "already_processed = set(already_read['content_hash'].tolist())"
   ]
  },
  {
   "cell_type": "code",
   "execution_count": 8,
   "metadata": {},
   "outputs": [
    {
     "name": "stdout",
     "output_type": "stream",
     "text": [
      "151192\n"
     ]
    }
   ],
   "source": [
    "print(len(already_processed))"
   ]
  },
  {
   "cell_type": "markdown",
   "metadata": {},
   "source": [
    "# To compute crawling statistics"
   ]
  },
  {
   "cell_type": "code",
   "execution_count": 9,
   "metadata": {},
   "outputs": [
    {
     "data": {
      "text/plain": [
       "Index(['content_hash', 'content_policy_type', 'eval_function_presence', 'id',\n",
       "       'script_url', 'visit_id'],\n",
       "      dtype='object')"
      ]
     },
     "execution_count": 9,
     "metadata": {},
     "output_type": "execute_result"
    }
   ],
   "source": [
    "already_read.columns"
   ]
  },
  {
   "cell_type": "code",
   "execution_count": 73,
   "metadata": {},
   "outputs": [
    {
     "name": "stdout",
     "output_type": "stream",
     "text": [
      "Eval:  258537\n",
      "Eval:  145222\n",
      "content_policy_type       56941\n",
      "eval_function_presence    56941\n",
      "id                        56941\n",
      "script_url                56941\n",
      "visit_id                  56941\n",
      "dtype: int64\n"
     ]
    }
   ],
   "source": [
    "print('Eval: ', (already_read['eval_function_presence'].values == False).sum())\n",
    "print('Eval: ', (already_read['eval_function_presence'].values == True).sum())\n",
    "\n",
    "filter = already_read[\"eval_function_presence\"]==True\n",
    "# filtering data \n",
    "print(already_read.where(filter, inplace = False).groupby('content_hash').count().count())\n",
    "\n",
    "# already_read.groupby('content_hash').apply(filter, inplace = False).count()"
   ]
  },
  {
   "cell_type": "code",
   "execution_count": 37,
   "metadata": {},
   "outputs": [],
   "source": [
    "filter = already_read[\"eval_function_presence\"]==1\n",
    "# filtering data \n",
    "already_read.where(filter, inplace = True) "
   ]
  },
  {
   "cell_type": "code",
   "execution_count": 79,
   "metadata": {},
   "outputs": [
    {
     "data": {
      "text/plain": [
       "content_hash                  1\n",
       "content_policy_type           8\n",
       "eval_function_presence        0\n",
       "id                        14087\n",
       "script_url                 2214\n",
       "visit_id                  12761\n",
       "dtype: int64"
      ]
     },
     "execution_count": 79,
     "metadata": {},
     "output_type": "execute_result"
    }
   ],
   "source": []
  },
  {
   "cell_type": "markdown",
   "metadata": {},
   "source": [
    "# Process Not Executing Scripts"
   ]
  },
  {
   "cell_type": "code",
   "execution_count": 18,
   "metadata": {},
   "outputs": [],
   "source": [
    "all_hashes = read_df(os.path.join(base_directory, 'all_hashes_url_top-10K_ran-10K.json'))"
   ]
  },
  {
   "cell_type": "code",
   "execution_count": 19,
   "metadata": {},
   "outputs": [
    {
     "data": {
      "text/plain": [
       "254790"
      ]
     },
     "execution_count": 19,
     "metadata": {},
     "output_type": "execute_result"
    }
   ],
   "source": [
    "all_hashes['content_hash'].nunique()"
   ]
  },
  {
   "cell_type": "code",
   "execution_count": 20,
   "metadata": {},
   "outputs": [
    {
     "data": {
      "text/plain": [
       "357726"
      ]
     },
     "execution_count": 20,
     "metadata": {},
     "output_type": "execute_result"
    }
   ],
   "source": [
    "all_hashes['url'].nunique()"
   ]
  },
  {
   "cell_type": "code",
   "execution_count": 21,
   "metadata": {},
   "outputs": [],
   "source": [
    "cond = all_hashes['content_hash'].isin(already_read['content_hash']) == True\n",
    "all_hashes.drop(all_hashes[cond].index, inplace = True)"
   ]
  },
  {
   "cell_type": "code",
   "execution_count": 22,
   "metadata": {},
   "outputs": [
    {
     "data": {
      "text/plain": [
       "136685"
      ]
     },
     "execution_count": 22,
     "metadata": {},
     "output_type": "execute_result"
    }
   ],
   "source": [
    "all_hashes['content_hash'].nunique()\n",
    "# already_read['content_hash'].nunique()"
   ]
  },
  {
   "cell_type": "code",
   "execution_count": 23,
   "metadata": {},
   "outputs": [
    {
     "data": {
      "text/plain": [
       "168917"
      ]
     },
     "execution_count": 23,
     "metadata": {},
     "output_type": "execute_result"
    }
   ],
   "source": [
    "all_hashes['url'].nunique()"
   ]
  },
  {
   "cell_type": "code",
   "execution_count": 16,
   "metadata": {},
   "outputs": [],
   "source": [
    "all_hashes"
   ]
  },
  {
   "cell_type": "markdown",
   "metadata": {},
   "source": [
    "## To check presence of hash urls in javascript table"
   ]
  },
  {
   "cell_type": "code",
   "execution_count": 18,
   "metadata": {},
   "outputs": [],
   "source": [
    "def get_presence(script_url, sqlite_cur, visit_id=None):\n",
    "    \"\"\"Return content policy type for given url.\n",
    "\n",
    "    Parameters\n",
    "    ----------\n",
    "    url : str\n",
    "        url to search content hash for\n",
    "    sqlite_cur : sqlite3.Cursor\n",
    "        cursor for crawl database\n",
    "    visit_id : int\n",
    "        (optional) `visit_id` of the page visit where this URL was loaded\n",
    "    \"\"\"\n",
    "    if visit_id is not None:\n",
    "#         SELECT distinct visit_id, script_url FROM javascript\n",
    "        sqlite_cur.execute(\n",
    "            \"SELECT script_url FROM javascript WHERE \"\n",
    "            \"visit_id = ? AND script_url = ? LIMIT 1;\", (visit_id, script_url))\n",
    "    else:\n",
    "        sqlite_cur.execute(\n",
    "            \"SELECT script_url FROM javascript WHERE script_url = ? LIMIT 1;\",\n",
    "            (script_url,))\n",
    "    script_url = sqlite_cur.fetchone()\n",
    "    if script_url is None or len(script_url) == 0:\n",
    "#         print(\"Content policy type not found for url %s\" % url)\n",
    "        return False\n",
    "    return True"
   ]
  },
  {
   "cell_type": "code",
   "execution_count": 15,
   "metadata": {},
   "outputs": [],
   "source": [
    "all_hashes['presence'] = all_hashes.apply(\n",
    "    axis=1,\n",
    "    func=lambda x: get_presence(x['url'], cur, visit_id=x['visit_id'])\n",
    ")"
   ]
  },
  {
   "cell_type": "code",
   "execution_count": 14,
   "metadata": {},
   "outputs": [],
   "source": [
    "cond = all_hashes['url'].isin(js_id_urls['script_url']) == True\n",
    "all_hashes.drop(all_hashes[cond].index, inplace = True)"
   ]
  },
  {
   "cell_type": "code",
   "execution_count": null,
   "metadata": {},
   "outputs": [],
   "source": []
  },
  {
   "cell_type": "code",
   "execution_count": 106,
   "metadata": {},
   "outputs": [],
   "source": [
    "all_hashes['eval_function_presence'] = all_hashes.apply(\n",
    "    axis=1,\n",
    "    func=lambda x: get_url_content(ldb, x['content_hash'], beautify=False)\n",
    ")"
   ]
  },
  {
   "cell_type": "code",
   "execution_count": 119,
   "metadata": {},
   "outputs": [],
   "source": [
    "all_hashes.insert(0, 'id', range(417846, 417846 + len(all_hashes)))"
   ]
  },
  {
   "cell_type": "code",
   "execution_count": 128,
   "metadata": {},
   "outputs": [],
   "source": [
    "def append_file(f_name, content_list):\n",
    "    with open(f_name, 'a') as out_file:\n",
    "        out_file.write(','.join(content_list)) \n",
    "        \n",
    "def write_content(file_addr, content):\n",
    "    with open(file_addr, 'wb') as out_file:        \n",
    "        out_file.write(content)\n",
    "        \n",
    "non_evaled_scripts_directory =  os.path.join(base_directory, 'non_evaled_scripts')\n",
    "if not os.path.isdir(non_evaled_scripts_directory):\n",
    "    os.mkdir(non_evaled_scripts_directory)\n",
    "    "
   ]
  },
  {
   "cell_type": "code",
   "execution_count": 132,
   "metadata": {},
   "outputs": [
    {
     "name": "stdout",
     "output_type": "stream",
     "text": [
      "Processed so far:  10000\n",
      "Processed so far:  20000\n",
      "Processed so far:  30000\n",
      "Processed so far:  40000\n",
      "Processed so far:  50000\n",
      "Processed so far:  60000\n",
      "Processed so far:  70000\n",
      "Processed so far:  80000\n",
      "Processed so far:  10000\n",
      "Processed so far:  90000\n",
      "Processed so far:  100000\n",
      "Processed so far:  110000\n",
      "Processed so far:  120000\n",
      "Total files with eval, non_eval :  14700 121985\n"
     ]
    }
   ],
   "source": [
    "count_eval = 0\n",
    "count_non_eval = 0\n",
    "content_list = []\n",
    "non_evaled_content_list = []\n",
    "\n",
    "for index, row in all_hashes.drop_duplicates('content_hash').iterrows():\n",
    "    if row['content_hash'] != '' and row['eval_function_presence'] == True:\n",
    "        dump_html_js(get_url_content_2(ldb, row['content_hash'], beautify=False), str(row['id']) + '_' + row['content_hash'], js_or_html='js')\n",
    "        content_list.append(str(row['id']) + '_' + row['content_hash'] + '.html')\n",
    "        count_eval += 1\n",
    "        if count_eval % 10000 == 0:\n",
    "            print('Processed so far: ', count_eval)\n",
    "    elif row['content_hash'] != '' and row['eval_function_presence'] == False:\n",
    "        write_content(os.path.join(non_evaled_scripts_directory, str(row['id']) + '_' + row['content_hash']), get_url_content_2(ldb, row['content_hash'], beautify=False))\n",
    "        non_evaled_content_list.append(str(row['id']) + '_' + row['content_hash'])        \n",
    "        count_non_eval += 1\n",
    "        if count_non_eval % 10000 == 0:\n",
    "            print('Processed so far: ', count_non_eval)\n",
    "    \n",
    "\n",
    "print('Total files with eval, non_eval : ', count_eval, count_non_eval)\n",
    "append_file(os.path.join(base_directory, 'packed_files_names.txt'), content_list)\n",
    "append_file(os.path.join(base_directory, 'non_evaled_files_names.txt'), non_evaled_content_list)\n",
    "all_hashes.to_json(os.path.join(base_directory, 'not_executed_js_id_urls_hash_mapping.json'))"
   ]
  },
  {
   "cell_type": "code",
   "execution_count": 126,
   "metadata": {},
   "outputs": [
    {
     "data": {
      "text/plain": [
       "(211235, 5)"
      ]
     },
     "execution_count": 126,
     "metadata": {},
     "output_type": "execute_result"
    }
   ],
   "source": [
    "all_hashes.shape"
   ]
  },
  {
   "cell_type": "code",
   "execution_count": 7,
   "metadata": {},
   "outputs": [],
   "source": [
    "temp = read_df('labels/2019-06-23_top_10k_random_10k_stateless-ground_truth.json')"
   ]
  },
  {
   "cell_type": "code",
   "execution_count": 140,
   "metadata": {},
   "outputs": [
    {
     "data": {
      "text/plain": [
       "(5437, 8)"
      ]
     },
     "execution_count": 140,
     "metadata": {},
     "output_type": "execute_result"
    }
   ],
   "source": [
    "temp.shape"
   ]
  },
  {
   "cell_type": "code",
   "execution_count": 153,
   "metadata": {},
   "outputs": [
    {
     "data": {
      "text/plain": [
       "300"
      ]
     },
     "execution_count": 153,
     "metadata": {},
     "output_type": "execute_result"
    }
   ],
   "source": [
    "# temp.where(temp.content_hash == None).count()\n",
    "(temp['content_hash'].values == None).sum()"
   ]
  },
  {
   "cell_type": "code",
   "execution_count": 154,
   "metadata": {},
   "outputs": [
    {
     "data": {
      "text/plain": [
       "956"
      ]
     },
     "execution_count": 154,
     "metadata": {},
     "output_type": "execute_result"
    }
   ],
   "source": [
    "temp['content_hash'].nunique()"
   ]
  },
  {
   "cell_type": "code",
   "execution_count": 182,
   "metadata": {},
   "outputs": [],
   "source": [
    "# for hash in list(temp[(temp['content_policy_type'].values == 4) & (temp['content_hash'].values == None)]['content_hash']):\n",
    "#     print(get_url_content_2(ldb, hash))\n",
    "#     break\n",
    "\n",
    "temp_list = temp[temp['content_hash'].values == None]['script_url'].unique()"
   ]
  },
  {
   "cell_type": "code",
   "execution_count": 189,
   "metadata": {},
   "outputs": [],
   "source": [
    "temp_set = set()\n",
    "for index, row in temp.iterrows():\n",
    "    if row['script_url'] in temp_list and row['content_hash'] != None:\n",
    "        temp_set.add(row['script_url'])"
   ]
  },
  {
   "cell_type": "code",
   "execution_count": 190,
   "metadata": {},
   "outputs": [
    {
     "data": {
      "text/plain": [
       "163"
      ]
     },
     "execution_count": 190,
     "metadata": {},
     "output_type": "execute_result"
    }
   ],
   "source": [
    "len(temp_set)"
   ]
  },
  {
   "cell_type": "code",
   "execution_count": 183,
   "metadata": {},
   "outputs": [
    {
     "data": {
      "text/plain": [
       "168"
      ]
     },
     "execution_count": 183,
     "metadata": {},
     "output_type": "execute_result"
    }
   ],
   "source": [
    "temp[temp['content_hash'].values == None]['script_url'].nunique()"
   ]
  },
  {
   "cell_type": "code",
   "execution_count": 185,
   "metadata": {},
   "outputs": [
    {
     "name": "stdout",
     "output_type": "stream",
     "text": [
      "300\n"
     ]
    }
   ],
   "source": [
    "count = 0 \n",
    "for index, row in temp.iterrows():\n",
    "    if row['content_hash'] == None:\n",
    "        count += 1\n",
    "        \n",
    "print(count)"
   ]
  },
  {
   "cell_type": "code",
   "execution_count": 195,
   "metadata": {},
   "outputs": [
    {
     "name": "stdout",
     "output_type": "stream",
     "text": [
      "(program):2\n",
      "dna.min.js\n",
      "\n",
      "webpack:///../node_modules/fingerprintjs2/fingerprint2.js?\n",
      "dna-test.min.js\n"
     ]
    }
   ],
   "source": [
    "for i in temp_list:\n",
    "    if i.strip() not in temp_set:\n",
    "        print(i.strip())"
   ]
  },
  {
   "cell_type": "code",
   "execution_count": 2,
   "metadata": {},
   "outputs": [
    {
     "name": "stdout",
     "output_type": "stream",
     "text": [
      "hello\n"
     ]
    }
   ],
   "source": [
    "print('hello')"
   ]
  },
  {
   "cell_type": "code",
   "execution_count": 9,
   "metadata": {},
   "outputs": [
    {
     "data": {
      "text/html": [
       "<div>\n",
       "<style scoped>\n",
       "    .dataframe tbody tr th:only-of-type {\n",
       "        vertical-align: middle;\n",
       "    }\n",
       "\n",
       "    .dataframe tbody tr th {\n",
       "        vertical-align: top;\n",
       "    }\n",
       "\n",
       "    .dataframe thead th {\n",
       "        text-align: right;\n",
       "    }\n",
       "</style>\n",
       "<table border=\"1\" class=\"dataframe\">\n",
       "  <thead>\n",
       "    <tr style=\"text-align: right;\">\n",
       "      <th></th>\n",
       "      <th>content_hash</th>\n",
       "      <th>is_audio</th>\n",
       "      <th>is_canvas</th>\n",
       "      <th>is_canvas_font</th>\n",
       "      <th>is_webrtc</th>\n",
       "      <th>script_url</th>\n",
       "      <th>top_level_url</th>\n",
       "      <th>visit_id</th>\n",
       "    </tr>\n",
       "  </thead>\n",
       "  <tbody>\n",
       "  </tbody>\n",
       "</table>\n",
       "</div>"
      ],
      "text/plain": [
       "Empty DataFrame\n",
       "Columns: [content_hash, is_audio, is_canvas, is_canvas_font, is_webrtc, script_url, top_level_url, visit_id]\n",
       "Index: []"
      ]
     },
     "execution_count": 9,
     "metadata": {},
     "output_type": "execute_result"
    }
   ],
   "source": [
    "temp[temp.script_url == '/index.js']"
   ]
  },
  {
   "cell_type": "markdown",
   "metadata": {},
   "source": []
  },
  {
   "cell_type": "code",
   "execution_count": 28,
   "metadata": {},
   "outputs": [
    {
     "data": {
      "text/plain": [
       "array(['https://c.adsco.re/',\n",
       "       'https://www.spectrum.com/static/6a6d3d1b77e185aaf5e4dc3e9065d02',\n",
       "       'https://www.cibc.com/public/a42a80573231e662bfcf1176a8c1f',\n",
       "       'https://www.academy.com/assets/0efdabb1142fd64881345184d251',\n",
       "       'http://c.adsco.re/',\n",
       "       'https://www.jdsports.co.uk/resources/c1b010f854236babd5d8a29fccf23f',\n",
       "       'https://www.zalando.fr/resources/5ec1b2235b180f5d17cbb60fe8f294',\n",
       "       'https://www.desjardins.com/static/8f64f77494c229d13ce1b2e62d40305',\n",
       "       'https://www.navyfederal.org/resources/93d02c85f6148b791193a3e097941a',\n",
       "       'https://www.otomoto.pl/resources/f7b2f3bb71224a67360493d44a9903',\n",
       "       'https://www.emirates.com/resources/ee9ea7b762160cc99a0d7ad6c6bd99',\n",
       "       'https://wizzair.com/public/4924df5c722758564e47174466d8e',\n",
       "       'https://www.tcsion.com/assets/4b001aa61701202035a4ff2be56d',\n",
       "       'https://www.kobo.com/static/cb916be95261810023fac2b4ef93e3f',\n",
       "       'https://www.casasbahia.com.br/resources/af16793fb1156ba632c8f035438bb1',\n",
       "       'https://www.groupon.fr/static/4abcd9026ee205caaa3114fd6f35e00',\n",
       "       '(program):2',\n",
       "       'https://www.grainger.com/static/7fd43a3c4c3185d235a6a09168c5aaa',\n",
       "       'https://www.olx.com.pk/assets/a57a4b1f19893e343c6cd3f7365a',\n",
       "       'https://www.papajohns.com/assets/4250934e1541fbcb057f59b7d888',\n",
       "       'dna.min.js',\n",
       "       'https://www.expediapartnercentral.com/public/41c0cf105175a5f6e81ea04989f3b',\n",
       "       'https://www.flypeach.com/assets/44c87bda2108a2865a7a35dc1bff',\n",
       "       'https://www.qantas.com/assets/b38ac19b1704ba03e5fe51bb5997',\n",
       "       'https://www.pizzahut.com/static/2f83ed9fe4f185d9a2449596595a694',\n",
       "       'https://www.cabelas.com/static/accf6796e87217894b71be2717ee1c5',\n",
       "       'https://www.zara.com/resources/f7e2080cec15604917c41cdf57c787',\n",
       "       'https://www.nike.com/static/88fe4b62b6b1818a5b600fe3b42865c',\n",
       "       'https://www.jabong.com/public/51d1d6bf11957a574d14f46db453d',\n",
       "       'https://www.dsw.com/resources/f51bb15165152de39ef91d10af7af6',\n",
       "       'https://www.thenorthface.com/static/fc95d00c6dd237b6b416b1062c0e2a9',\n",
       "       'https://www.carnival.com/assets/18779623210758ff00cff7ad45a5',\n",
       "       'https://www.nextdirect.com/resources/8a4fb5a6bd212c9ceb1f355a187cf9',\n",
       "       'https://www.otodom.pl/static/25c92907431213b3613799549ee3245',\n",
       "       'https://www.autozone.com/public/0b4fae15e23545e3ad8c8e771c75b',\n",
       "       '',\n",
       "       'https://www.pontofrio.com.br/resources/565c46b8c41925eeaca7770963deaf',\n",
       "       'https://www.net-a-porter.com/resources/aaf9fbc4fd2288eee22db39befb2f2',\n",
       "       'https://www.humana.com/resources/230f71525922058a91cac27c60f044',\n",
       "       'https://www.tacobell.com/resources/a2ccee54f81600bec942247fa3783e',\n",
       "       'https://www.huntington.com/resources/796cdca27e21277f4497fe18046436',\n",
       "       'https://www.olx.kz/public/e12b303f2195525e9601a45752d8b',\n",
       "       'https://www.timberland.com/resources/98982d080922050382728d734a7bf9',\n",
       "       'https://www.mckinsey.com/static/73d2948c2241857a996e5cd20a81cc4',\n",
       "       'https://www.msccruisesusa.com/resources/91220d9db0160d6ff6e927053d9f6a',\n",
       "       'https://www.vans.eu/static/346f10b46b3185228c6ce31b5b3d0a1',\n",
       "       'https://www.ana.co.jp/static/781e2f30c37237472da337a86a3e5b3',\n",
       "       'https://www.saksfifthavenue.com/static/8c82e198895205b533688a0d9f15e3e',\n",
       "       'https://www.zalando.dk/public/89a50c62016327eb22c217fc47e72',\n",
       "       'https://www.express.com/resources/90dc72692619237ea239f2944a3fe3',\n",
       "       'https://www.olx.ua/resources/2a2a5b55ba2206e1e3f1959688a351',\n",
       "       'https://www.halifax-online.co.uk/assets/be00765c2309b3e601a033c99f47',\n",
       "       'https://www.tangerine.ca/resources/f6827e53d5188359a921a9d6c53165',\n",
       "       'https://www.pullandbear.com/resources/a7ff838e971964058784d8eb70f70b',\n",
       "       'https://www.rei.com/assets/80595362202ba157e1b2b7c5d3bb',\n",
       "       'https://www.stradivarius.com/public/7f31e3bfd139fea785aad0cc03367',\n",
       "       'https://www.zales.com/static/ef3b504ff732095fcc5fd77576f34a6',\n",
       "       'https://www.zalando.de/static/0299c9563d015754001829c2f7f2cba',\n",
       "       'https://www.makemytrip.com/static/707a0d6297b237e7a5c442da25f677e',\n",
       "       'https://www.loft.com/public/cae7414fb2317d5b71550702f97a2',\n",
       "       'https://www.delta.com/resources/bfc17c4bdf1845df4b1757a21c8640',\n",
       "       'https://www.stubhub.com/public/0d43127c416746a1995f7f91eaee0',\n",
       "       'https://www.empireblue.com/resources/0454797a9120471a2d553f15194441',\n",
       "       'https://www.ove.com/resources/d5f72f5c881521990083e267b0bdbb',\n",
       "       'webpack:///../node_modules/fingerprintjs2/fingerprint2.js?',\n",
       "       'https://www.telecharge.com/assets/72580300170523df413e38e42ecc',\n",
       "       'https://www.madewell.com/static/e15afe8913918594f2b1a19a33e96ab',\n",
       "       'https://www.hotels.com/static/c08e5e7f783145de109258a5155c3b6',\n",
       "       'https://www.macys.com/public/5485c27b6159243dc074b074928f3',\n",
       "       'https://www.koreanair.com/assets/f54277031544b4bb0272eb4d7f27',\n",
       "       'https://www.olx.ro/public/3ff7232e82191c64896ac83e8b6c4',\n",
       "       'https://www.ihg.com/assets/e135c89320262cf09b16372b15d5',\n",
       "       'https://www.turkishairlines.com/public/6cf8385b92154dd2fab80d2d2ce2d',\n",
       "       'https://www.flydubai.com/assets/537b4ea32109d5535b4d54a76b72',\n",
       "       'https://www.easyjet.com/public/1cd0fb340167f3726186a41c6bba8',\n",
       "       'https://www.yoox.com/static/c195d46948a181e1024538abf867d46',\n",
       "       'https://www.lordandtaylor.com/static/8f47b10bf2121327f06571f540152d5',\n",
       "       'https://www.thenorthface.co.uk/assets/8482a7392149cd7ac0b85c24bf1d',\n",
       "       'https://www3.citizensbankonline.com/public/a19a520e215124e226ee614b3eb0a',\n",
       "       'https://www.freepeople.com/static/2f6f108b142233616ba1f9e0aa01c2c',\n",
       "       'https://www.anthropologie.com/static/6509756b1fa141135ec203285c73fc5',\n",
       "       'https://www.kroger.com/resources/ca59b99a8d220a48b37d620bfcf736',\n",
       "       'https://www.hilton.com/resources/de6e4e591a220a8599a0b453f4f64e',\n",
       "       'https://www.ukrainedate.com/public/02e070a69191ce3e4e5af1d66b1d3',\n",
       "       'https://www.mouser.com/static/7615c4fcd67145498944472bf619046',\n",
       "       'https://www.aviva.co.uk/assets/0ebffbc01705bda22521f21514ce',\n",
       "       'https://www.lowes.com/resources/6bcea94fa0184bf21b75cc309e95e1',\n",
       "       'https://www.uline.com/public/eafd62a01159549e59ae4a9251b1d',\n",
       "       'https://www.destinationxl.com/resources/5ffe2cf219192865a179958fd0a1ea',\n",
       "       'https://www.asos.com/resources/7db24cc2b4156e73835cb9117078d4',\n",
       "       'https://www.stan.com.au/resources/3de3629742180001e7842540469e64',\n",
       "       'https://www.blibli.com/resources/2547ee92ae2203fc7fb43bb3a7d3f8',\n",
       "       'https://www.asos.de/assets/10c1dedb21402d623312079b6fa1',\n",
       "       'https://www.xm.com/public/418fbb8912276f605f11ee5d2815f',\n",
       "       'https://www.fidelity.com/resources/adf10c5040160a5e39058c15cce0f3',\n",
       "       'https://www.tokopedia.com/assets/2dca1e8a15440ed5853701fadef6',\n",
       "       'https://www.adidas.ca/static/6489df94536237045b3174fca4918b2',\n",
       "       'https://www.altrarunning.com/public/45b93a3f918777fe1cb683e4c61e1',\n",
       "       'https://www.anthem.com/public/4790344de195d86b3b205e3978fcc',\n",
       "       'https://www.golfgalaxy.com/resources/93e234705320858e1e95c9d81d3b70',\n",
       "       'https://www.optus.com.au/static/0c998215f67173052c91da3492210cc',\n",
       "       'https://www.aeroflot.ru/assets/bc65b9991908ca7aea2ae3219552',\n",
       "       'http://cafef.vn/',\n",
       "       'https://www2.next.co.uk/resources/207225039b220b50277ee1bc775484',\n",
       "       'https://www.usbank.com/assets/b5d5fdd017031e71a40978c0c620',\n",
       "       'https://www.groupon.com/resources/ea1652b3d4192d9359ebbed1cbef05',\n",
       "       'https://www.bershka.com/assets/40ff540714234fd7a433afcbd92e',\n",
       "       'https://www.olx.in/static/692d329790117363e63450dcc76858c',\n",
       "       'https://www.footlocker.ca/public/5fd0d77542033b9d6b649fd8b41de',\n",
       "       'https://www.sumitclub.jp/static/8ffeef916d2213e48b019e20aa485b2',\n",
       "       'https://www.fedex.com/assets/afae6f6d234fc36afb33e37af582',\n",
       "       'https://www.panerabread.com/public/1c2aa5125147e347bab07cf1633ec',\n",
       "       'https://www.pnc.com/public/ae5a556a9227da965e507db1c4f16',\n",
       "       'https://www.analog.com/resources/18f084bdf4220221eea31242d29f6c',\n",
       "       'https://www.hyatt.com/resources/aec9e0814c1843cd811083f8338393',\n",
       "       'https://www.marksandspencer.com/public/847e2c938171fa3c67cc22b785524',\n",
       "       'https://www.xero.com/resources/cbbfc56020156acab439d8e7479d34',\n",
       "       'https://www.groupon.com.au/resources/e9b9d1823f196b7fb47541925c32b9',\n",
       "       'https://www.key.com/public/5e3c400a8227c052b58c56ceef6ab',\n",
       "       'https://www.ae.com/resources/716d839052152b60c08df4677ca4a6',\n",
       "       'https://www.extra.com.br/resources/71f3acb3b5200d247871c50da6f728',\n",
       "       'https://www.homedepot.ca/resources/c3fec62926188a6b0131c340296cf3',\n",
       "       'https://www.adidas.com/resources/ca24347f792201c7f168e5c3822dc4',\n",
       "       'http://gamek.vn/',\n",
       "       'https://www.dickssportinggoods.com/assets/f0a2dc081543f258f321a0bcab02',\n",
       "       'https://www.myntra.com/static/1c4b71a392b1457c6262ae5d2aedf4a',\n",
       "       'https://www.vans.com/assets/7b1224da206e494ccce5e71e15d7',\n",
       "       'https://www.zalando.it/static/cabde8b676e19744da32f1d500ae6bb',\n",
       "       'https://www.footlocker.fr/public/3d734ef1f235f0acf26c298ff92f4',\n",
       "       'https://www.mobile.de/resources/ab31f84f47196e3ac439be412000c6',\n",
       "       'https://www.jcpenney.com/assets/e62b9092210eda11184bae8d024b',\n",
       "       'https://shop.nordstrom.com/public/1fa63255d191a858f91d55d70abf5',\n",
       "       'https://www.spirit.com/static/8bc3fb8939714560a539b3799858fc0',\n",
       "       'https://consumercenter.mysynchrony.com/static/1a776524bf51973cab78c5f46bb01a1',\n",
       "       'https://www.overstock.com/assets/5f02b65b1540b1248032aeb8c10b',\n",
       "       'https://www.foxtel.com.au/resources/3afd11d0371889544061a9c59e1bbc',\n",
       "       'https://www.zennioptical.com/assets/9f269eaf22635aa166906ae3cb01',\n",
       "       'https://us.shein.com/resources/4ca5be0b401568c82a70660b9733ba',\n",
       "       'https://www.53.com/assets/f42a6f4920277d826ca94ae395ed',\n",
       "       'https://www.bankbazaar.com/public/5e2d265421755fd69e55b19e0a266',\n",
       "       'https://www.ikea.cn/assets/ded99d07218e30373de7b61aa7ee',\n",
       "       'https://ibx.key.com/static/c82e87cf84c177590c88a0d4e699ae2',\n",
       "       'https://www.acklandsgrainger.com/assets/42fc3c0b20669ab6d3304515f1d9',\n",
       "       'https://www.cdw.com/resources/c6ed931c0d1526a1fa1ec3147e7632',\n",
       "       'https://www.mrporter.com/static/e6c486426801853f3e2f0b4aa4d74b1',\n",
       "       'https://www.thebay.com/public/08e70477819552fedbc8779a9383b',\n",
       "       'https://www.argos.co.uk/public/95029b950195cba55f2fcdc5145ab',\n",
       "       'https://www.tkmaxx.com/public/a029cb628195c983512d0ad2e8a12',\n",
       "       'https://www.michaels.com/resources/2c99e5d4fc160f5834fccf6bcb3c61',\n",
       "       'https://www.thesun.co.uk/assets/018c0bb81380beadc6655dc7d99a',\n",
       "       'https://www.aa.com/resources/ac48740b421522bf94f2f548f2b31f',\n",
       "       'https://www.barneys.com/assets/74819786142550ea56ccc40e6da9',\n",
       "       'https://www.aircanada.com/assets/4a3aff6d150794ee13e03d440a70',\n",
       "       'https://www.urbanoutfitters.com/public/9c0b912fb207f4ad6c957a0b765c1',\n",
       "       'dna-test.min.js',\n",
       "       'https://www.xmtrading.com/resources/fb3c8cb8e4204c8db68072ee2cad76',\n",
       "       'https://www.mindbodyonline.com/static/9005f9c3667213e5aca227da5355476',\n",
       "       'https://www.chewy.com/assets/08d2b34823426cecf058004652a4',\n",
       "       'https://www.gapfactory.com/assets/f6a929e315407041bdabb7a653d8',\n",
       "       'https://www.next.com.au/static/8acf888d988205d438973048eb8eb37',\n",
       "       'https://www.passports.gov.au/assets/d6ad945b21400f49ae1f21663df5',\n",
       "       'https://www.gucci.com/static/c8cd9a590dd2092147543f6f9cb06a3',\n",
       "       'https://www.ally.com/resources/a4a0b4abbf15633191ee29b4ac7d21',\n",
       "       'https://www.ikea.com/resources/e4e72252d9156e1f190b2711b797d7',\n",
       "       'https://www.converse.com/public/0db32b5012350942367a8cf5b3142',\n",
       "       'https://www.cdw.ca/static/00a084f82232056511b04204f4c3c50',\n",
       "       'http://kenh14.vn/',\n",
       "       'https://www.olx.pl/assets/06016d09206d4038e0452ddd23b2'],\n",
       "      dtype=object)"
      ]
     },
     "execution_count": 28,
     "metadata": {},
     "output_type": "execute_result"
    }
   ],
   "source": [
    "temp[temp['content_hash'].values == None]['script_url'].unique()"
   ]
  },
  {
   "cell_type": "code",
   "execution_count": 37,
   "metadata": {},
   "outputs": [
    {
     "data": {
      "text/plain": [
       "False"
      ]
     },
     "execution_count": 37,
     "metadata": {},
     "output_type": "execute_result"
    }
   ],
   "source": [
    "temp['script_url'].str.contains('/dufhidufhweiufhuwiefh.js', na=False, regex=False).any()"
   ]
  },
  {
   "cell_type": "code",
   "execution_count": 35,
   "metadata": {},
   "outputs": [
    {
     "data": {
      "text/plain": [
       "False"
      ]
     },
     "execution_count": 35,
     "metadata": {},
     "output_type": "execute_result"
    }
   ],
   "source": [
    "temp['content_hash'].str.contains('script_hash', na=False, regex=False).any()"
   ]
  },
  {
   "cell_type": "code",
   "execution_count": 49,
   "metadata": {},
   "outputs": [],
   "source": [
    "temp = read_df('/mnt/data_6tb/macbook/crawl_20K/js_id_urls_hash_content_type_mapping.json')"
   ]
  },
  {
   "cell_type": "code",
   "execution_count": 50,
   "metadata": {},
   "outputs": [
    {
     "data": {
      "text/html": [
       "<div>\n",
       "<style scoped>\n",
       "    .dataframe tbody tr th:only-of-type {\n",
       "        vertical-align: middle;\n",
       "    }\n",
       "\n",
       "    .dataframe tbody tr th {\n",
       "        vertical-align: top;\n",
       "    }\n",
       "\n",
       "    .dataframe thead th {\n",
       "        text-align: right;\n",
       "    }\n",
       "</style>\n",
       "<table border=\"1\" class=\"dataframe\">\n",
       "  <thead>\n",
       "    <tr style=\"text-align: right;\">\n",
       "      <th></th>\n",
       "      <th>content_hash</th>\n",
       "      <th>content_policy_type</th>\n",
       "      <th>eval_function_presence</th>\n",
       "      <th>id</th>\n",
       "      <th>script_url</th>\n",
       "      <th>visit_id</th>\n",
       "    </tr>\n",
       "  </thead>\n",
       "  <tbody>\n",
       "    <tr>\n",
       "      <th>0</th>\n",
       "      <td>5f48fc77cac90c4778fa24ec9c57f37d</td>\n",
       "      <td>2</td>\n",
       "      <td>1.0</td>\n",
       "      <td>1</td>\n",
       "      <td>https://code.jquery.com/jquery-3.2.1.slim.min.js</td>\n",
       "      <td>2</td>\n",
       "    </tr>\n",
       "    <tr>\n",
       "      <th>1</th>\n",
       "      <td>bffc6023835e717c0348c41583e56eba</td>\n",
       "      <td>2</td>\n",
       "      <td>0.0</td>\n",
       "      <td>2</td>\n",
       "      <td>http://hajoopteg.com/feed/assets/default/js/fo...</td>\n",
       "      <td>2</td>\n",
       "    </tr>\n",
       "    <tr>\n",
       "      <th>10</th>\n",
       "      <td>d6784348cabbc2b6b0db7aa1a6c7f1d5</td>\n",
       "      <td>6</td>\n",
       "      <td>0.0</td>\n",
       "      <td>11</td>\n",
       "      <td>https://www.linuxquestions.org/</td>\n",
       "      <td>3</td>\n",
       "    </tr>\n",
       "    <tr>\n",
       "      <th>100</th>\n",
       "      <td>133700ce91867800e5b6489adc2e644a</td>\n",
       "      <td>7</td>\n",
       "      <td>0.0</td>\n",
       "      <td>101</td>\n",
       "      <td>https://pagead2.googlesyndication.com/pagead/s...</td>\n",
       "      <td>4</td>\n",
       "    </tr>\n",
       "    <tr>\n",
       "      <th>1000</th>\n",
       "      <td>e23415c704caa3067181e404a7d47e95</td>\n",
       "      <td>2</td>\n",
       "      <td>1.0</td>\n",
       "      <td>1001</td>\n",
       "      <td>https://api.useinsider.com/js/squery.min.js</td>\n",
       "      <td>36</td>\n",
       "    </tr>\n",
       "    <tr>\n",
       "      <th>10000</th>\n",
       "      <td>c8e0d2176bb426a32c4c6a89c3e60390</td>\n",
       "      <td>2</td>\n",
       "      <td>1.0</td>\n",
       "      <td>10001</td>\n",
       "      <td>https://g.alicdn.com/shop/shop-caja/0.1.0/r300...</td>\n",
       "      <td>425</td>\n",
       "    </tr>\n",
       "    <tr>\n",
       "      <th>100000</th>\n",
       "      <td>73e6254903375e432d34c87deaec234a</td>\n",
       "      <td>2</td>\n",
       "      <td>1.0</td>\n",
       "      <td>100001</td>\n",
       "      <td>https://www.cgg.gov.in/slider/jquery.js</td>\n",
       "      <td>4454</td>\n",
       "    </tr>\n",
       "    <tr>\n",
       "      <th>100001</th>\n",
       "      <td>0aa9e28b4a0be2a105e18f0e718e12cf</td>\n",
       "      <td>2</td>\n",
       "      <td>1.0</td>\n",
       "      <td>100002</td>\n",
       "      <td>https://www.cgg.gov.in/core/themes/edsbootstra...</td>\n",
       "      <td>4454</td>\n",
       "    </tr>\n",
       "    <tr>\n",
       "      <th>100002</th>\n",
       "      <td>5a03f97cc479b9f5d7efdaccec31bc17</td>\n",
       "      <td>2</td>\n",
       "      <td>0.0</td>\n",
       "      <td>100003</td>\n",
       "      <td>https://www.cgg.gov.in/helper/js/wp-embed.min....</td>\n",
       "      <td>4454</td>\n",
       "    </tr>\n",
       "    <tr>\n",
       "      <th>100003</th>\n",
       "      <td>95e5ffd5de759d81ed7cd57c2affd429</td>\n",
       "      <td>2</td>\n",
       "      <td>1.0</td>\n",
       "      <td>100004</td>\n",
       "      <td>https://www.cgg.gov.in/core/themes/edsbootstra...</td>\n",
       "      <td>4454</td>\n",
       "    </tr>\n",
       "    <tr>\n",
       "      <th>100004</th>\n",
       "      <td>0bf86097a6196c5e8b9fb9e9ce895d3e</td>\n",
       "      <td>2</td>\n",
       "      <td>0.0</td>\n",
       "      <td>100005</td>\n",
       "      <td>https://www.cgg.gov.in/core/themes/edsbootstra...</td>\n",
       "      <td>4454</td>\n",
       "    </tr>\n",
       "    <tr>\n",
       "      <th>100005</th>\n",
       "      <td>a1d7798f42d099fd12c6ca8c86b11820</td>\n",
       "      <td>2</td>\n",
       "      <td>0.0</td>\n",
       "      <td>100006</td>\n",
       "      <td>https://static.site24x7rum.com/beacon/site24x7...</td>\n",
       "      <td>4454</td>\n",
       "    </tr>\n",
       "    <tr>\n",
       "      <th>100006</th>\n",
       "      <td>938b01cf56ad738474f3f08099bd35e4</td>\n",
       "      <td>2</td>\n",
       "      <td>0.0</td>\n",
       "      <td>100007</td>\n",
       "      <td>https://www.cgg.gov.in/slider/jquery.flexslide...</td>\n",
       "      <td>4454</td>\n",
       "    </tr>\n",
       "    <tr>\n",
       "      <th>100007</th>\n",
       "      <td>0ab828ba59cb570ea7b1c5f44e64775b</td>\n",
       "      <td>2</td>\n",
       "      <td>1.0</td>\n",
       "      <td>100008</td>\n",
       "      <td>https://2.cdn.echo.msk.ru/assets/modernizr.js</td>\n",
       "      <td>4455</td>\n",
       "    </tr>\n",
       "    <tr>\n",
       "      <th>100008</th>\n",
       "      <td>a361b18b3e8addd1f2961625d0b55aea</td>\n",
       "      <td>6</td>\n",
       "      <td>0.0</td>\n",
       "      <td>100009</td>\n",
       "      <td>https://echo.msk.ru/</td>\n",
       "      <td>4455</td>\n",
       "    </tr>\n",
       "    <tr>\n",
       "      <th>100009</th>\n",
       "      <td>e0e0559014b222245deb26b6ae8bd940</td>\n",
       "      <td>2</td>\n",
       "      <td>1.0</td>\n",
       "      <td>100010</td>\n",
       "      <td>https://yandex.st/jquery/1.10.2/jquery.min.js</td>\n",
       "      <td>4455</td>\n",
       "    </tr>\n",
       "    <tr>\n",
       "      <th>10001</th>\n",
       "      <td>7e384a81a999c688d141ba39112eabba</td>\n",
       "      <td>2</td>\n",
       "      <td>1.0</td>\n",
       "      <td>10002</td>\n",
       "      <td>https://g.alicdn.com/shop/kissy-caja/1.3.1/aja...</td>\n",
       "      <td>425</td>\n",
       "    </tr>\n",
       "    <tr>\n",
       "      <th>100010</th>\n",
       "      <td>073b26db486acb1ff9d5db3ce41d1a1d</td>\n",
       "      <td>2</td>\n",
       "      <td>0.0</td>\n",
       "      <td>100011</td>\n",
       "      <td>https://www.googletagservices.com/tag/js/gpt.js</td>\n",
       "      <td>4455</td>\n",
       "    </tr>\n",
       "    <tr>\n",
       "      <th>100011</th>\n",
       "      <td>2a512b6b9be3dfd1b83db7ae4649c220</td>\n",
       "      <td>2</td>\n",
       "      <td>0.0</td>\n",
       "      <td>100012</td>\n",
       "      <td>https://www.googletagmanager.com/gtm.js?id=GTM...</td>\n",
       "      <td>4455</td>\n",
       "    </tr>\n",
       "    <tr>\n",
       "      <th>100012</th>\n",
       "      <td>acdeba3706e93819c406146721a2d95c</td>\n",
       "      <td>2</td>\n",
       "      <td>1.0</td>\n",
       "      <td>100013</td>\n",
       "      <td>https://securepubads.g.doubleclick.net/gpt/pub...</td>\n",
       "      <td>4455</td>\n",
       "    </tr>\n",
       "    <tr>\n",
       "      <th>100013</th>\n",
       "      <td>4731b9a5626218cb658d4a623b432c68</td>\n",
       "      <td>2</td>\n",
       "      <td>1.0</td>\n",
       "      <td>100014</td>\n",
       "      <td>https://echo.msk.ru/assets/jquery-migrate.js</td>\n",
       "      <td>4455</td>\n",
       "    </tr>\n",
       "    <tr>\n",
       "      <th>100014</th>\n",
       "      <td>fd255415839568e52a48da5de5af244c</td>\n",
       "      <td>2</td>\n",
       "      <td>1.0</td>\n",
       "      <td>100015</td>\n",
       "      <td>https://yandex.st/jquery-ui/1.10.3/jquery-ui.m...</td>\n",
       "      <td>4455</td>\n",
       "    </tr>\n",
       "    <tr>\n",
       "      <th>100015</th>\n",
       "      <td>cad4bec2ecb837754eebb7193b940152</td>\n",
       "      <td>2</td>\n",
       "      <td>0.0</td>\n",
       "      <td>100016</td>\n",
       "      <td>https://2.cdn.echo.msk.ru/assets/head-cdc40370...</td>\n",
       "      <td>4455</td>\n",
       "    </tr>\n",
       "    <tr>\n",
       "      <th>100016</th>\n",
       "      <td>b3072c1e41483335a3612ad1e9763331</td>\n",
       "      <td>2</td>\n",
       "      <td>1.0</td>\n",
       "      <td>100017</td>\n",
       "      <td>https://yastatic.net/pcode/adfox/header-biddin...</td>\n",
       "      <td>4455</td>\n",
       "    </tr>\n",
       "    <tr>\n",
       "      <th>100017</th>\n",
       "      <td>4c7fdbc0f53c17460aaa86725146cef0</td>\n",
       "      <td>2</td>\n",
       "      <td>1.0</td>\n",
       "      <td>100018</td>\n",
       "      <td>https://yastatic.net/pcode/adfox/loader.js</td>\n",
       "      <td>4455</td>\n",
       "    </tr>\n",
       "    <tr>\n",
       "      <th>100018</th>\n",
       "      <td>4c1e95a23d8adb00a73a4b2e6bdb4670</td>\n",
       "      <td>2</td>\n",
       "      <td>0.0</td>\n",
       "      <td>100019</td>\n",
       "      <td>https://ads.vidoomy.com/echomsk_5315.js</td>\n",
       "      <td>4455</td>\n",
       "    </tr>\n",
       "    <tr>\n",
       "      <th>100019</th>\n",
       "      <td>71ad7333c44fe910d0b936c2ead4887b</td>\n",
       "      <td>2</td>\n",
       "      <td>1.0</td>\n",
       "      <td>100020</td>\n",
       "      <td>https://static.criteo.net/js/ld/publishertag.js</td>\n",
       "      <td>4455</td>\n",
       "    </tr>\n",
       "    <tr>\n",
       "      <th>10002</th>\n",
       "      <td>0e468fea20e8d6955de209802db2d794</td>\n",
       "      <td>6</td>\n",
       "      <td>0.0</td>\n",
       "      <td>10003</td>\n",
       "      <td>https://www.xataka.com/</td>\n",
       "      <td>426</td>\n",
       "    </tr>\n",
       "    <tr>\n",
       "      <th>100020</th>\n",
       "      <td>23644519aea2a5ed4cf08cbade07165b</td>\n",
       "      <td>2</td>\n",
       "      <td>1.0</td>\n",
       "      <td>100021</td>\n",
       "      <td>https://d31j93rd8oukbv.cloudfront.net/metrika/...</td>\n",
       "      <td>4455</td>\n",
       "    </tr>\n",
       "    <tr>\n",
       "      <th>100021</th>\n",
       "      <td>72cad92836e27c5e523d15182c9c25cb</td>\n",
       "      <td>2</td>\n",
       "      <td>0.0</td>\n",
       "      <td>100022</td>\n",
       "      <td>https://target.smi2.net/client/target.js</td>\n",
       "      <td>4455</td>\n",
       "    </tr>\n",
       "    <tr>\n",
       "      <th>...</th>\n",
       "      <td>...</td>\n",
       "      <td>...</td>\n",
       "      <td>...</td>\n",
       "      <td>...</td>\n",
       "      <td>...</td>\n",
       "      <td>...</td>\n",
       "    </tr>\n",
       "    <tr>\n",
       "      <th>99972</th>\n",
       "      <td>383a6a9631061ca3e88e36b23c54f866</td>\n",
       "      <td>7</td>\n",
       "      <td>0.0</td>\n",
       "      <td>99973</td>\n",
       "      <td>https://googleads.g.doubleclick.net/pagead/ads...</td>\n",
       "      <td>4451</td>\n",
       "    </tr>\n",
       "    <tr>\n",
       "      <th>99973</th>\n",
       "      <td>133700ce91867800e5b6489adc2e644a</td>\n",
       "      <td>7</td>\n",
       "      <td>0.0</td>\n",
       "      <td>99974</td>\n",
       "      <td>https://pagead2.googlesyndication.com/pagead/s...</td>\n",
       "      <td>4451</td>\n",
       "    </tr>\n",
       "    <tr>\n",
       "      <th>99974</th>\n",
       "      <td>133700ce91867800e5b6489adc2e644a</td>\n",
       "      <td>7</td>\n",
       "      <td>0.0</td>\n",
       "      <td>99975</td>\n",
       "      <td>https://pagead2.googlesyndication.com/pagead/s...</td>\n",
       "      <td>4451</td>\n",
       "    </tr>\n",
       "    <tr>\n",
       "      <th>99975</th>\n",
       "      <td>80e9f663857fe3a4f3b2826ec5ab4377</td>\n",
       "      <td>2</td>\n",
       "      <td>0.0</td>\n",
       "      <td>99976</td>\n",
       "      <td>https://www.google-analytics.com/analytics.js</td>\n",
       "      <td>4451</td>\n",
       "    </tr>\n",
       "    <tr>\n",
       "      <th>99976</th>\n",
       "      <td></td>\n",
       "      <td>2</td>\n",
       "      <td>NaN</td>\n",
       "      <td>99977</td>\n",
       "      <td>http://www.google-analytics.com/ga.js</td>\n",
       "      <td>4451</td>\n",
       "    </tr>\n",
       "    <tr>\n",
       "      <th>99977</th>\n",
       "      <td></td>\n",
       "      <td>-1</td>\n",
       "      <td>NaN</td>\n",
       "      <td>99978</td>\n",
       "      <td></td>\n",
       "      <td>4451</td>\n",
       "    </tr>\n",
       "    <tr>\n",
       "      <th>99978</th>\n",
       "      <td>1e024f196d4f2f1ce01f995a9e464ddb</td>\n",
       "      <td>6</td>\n",
       "      <td>0.0</td>\n",
       "      <td>99979</td>\n",
       "      <td>https://www.italki.com/</td>\n",
       "      <td>4452</td>\n",
       "    </tr>\n",
       "    <tr>\n",
       "      <th>99979</th>\n",
       "      <td>c1504a47fa537596f7eae02a2d3822c2</td>\n",
       "      <td>7</td>\n",
       "      <td>1.0</td>\n",
       "      <td>99980</td>\n",
       "      <td>https://s7.addthis.com/static/sh.e4e8af4de595f...</td>\n",
       "      <td>4452</td>\n",
       "    </tr>\n",
       "    <tr>\n",
       "      <th>9998</th>\n",
       "      <td>ac527c3ead203637b1985a489d0d773b</td>\n",
       "      <td>2</td>\n",
       "      <td>0.0</td>\n",
       "      <td>9999</td>\n",
       "      <td>https://g.alicdn.com/alilog/aplus_plugin_xwj/i...</td>\n",
       "      <td>425</td>\n",
       "    </tr>\n",
       "    <tr>\n",
       "      <th>99980</th>\n",
       "      <td>434b72c88109d1e1dc8131572ece950c</td>\n",
       "      <td>2</td>\n",
       "      <td>1.0</td>\n",
       "      <td>99981</td>\n",
       "      <td>https://d1m3ds7i7t710d.cloudfront.net/orion/st...</td>\n",
       "      <td>4452</td>\n",
       "    </tr>\n",
       "    <tr>\n",
       "      <th>99981</th>\n",
       "      <td>ae7b328a0c85da55601bcc0820260781</td>\n",
       "      <td>2</td>\n",
       "      <td>0.0</td>\n",
       "      <td>99982</td>\n",
       "      <td>https://d1m3ds7i7t710d.cloudfront.net/orion/st...</td>\n",
       "      <td>4452</td>\n",
       "    </tr>\n",
       "    <tr>\n",
       "      <th>99982</th>\n",
       "      <td>08ec179afda2a7e7cbf34e9e9259b721</td>\n",
       "      <td>2</td>\n",
       "      <td>1.0</td>\n",
       "      <td>99983</td>\n",
       "      <td>https://s7.addthis.com/js/300/addthis_widget.j...</td>\n",
       "      <td>4452</td>\n",
       "    </tr>\n",
       "    <tr>\n",
       "      <th>99983</th>\n",
       "      <td>b0c316fda849f8d1b69127d0df93026e</td>\n",
       "      <td>2</td>\n",
       "      <td>1.0</td>\n",
       "      <td>99984</td>\n",
       "      <td>https://d1m3ds7i7t710d.cloudfront.net/orion/st...</td>\n",
       "      <td>4452</td>\n",
       "    </tr>\n",
       "    <tr>\n",
       "      <th>99984</th>\n",
       "      <td>19320fdb89563a561d7cf55567893c82</td>\n",
       "      <td>2</td>\n",
       "      <td>1.0</td>\n",
       "      <td>99985</td>\n",
       "      <td>https://www.googletagmanager.com/gtm.js?id=GTM...</td>\n",
       "      <td>4452</td>\n",
       "    </tr>\n",
       "    <tr>\n",
       "      <th>99985</th>\n",
       "      <td>af74df041a24efedfca91d33b7507167</td>\n",
       "      <td>2</td>\n",
       "      <td>0.0</td>\n",
       "      <td>99986</td>\n",
       "      <td>https://d1m3ds7i7t710d.cloudfront.net/orion/st...</td>\n",
       "      <td>4452</td>\n",
       "    </tr>\n",
       "    <tr>\n",
       "      <th>99986</th>\n",
       "      <td>7857bcc81cce13d67ca5ddb7bf6ed852</td>\n",
       "      <td>2</td>\n",
       "      <td>1.0</td>\n",
       "      <td>99987</td>\n",
       "      <td>https://cdn.boomtrain.com/p13n/italki-com/p13n...</td>\n",
       "      <td>4452</td>\n",
       "    </tr>\n",
       "    <tr>\n",
       "      <th>99987</th>\n",
       "      <td>83824484918afe2f1e60c3da57e6d4f4</td>\n",
       "      <td>2</td>\n",
       "      <td>0.0</td>\n",
       "      <td>99988</td>\n",
       "      <td>https://connect.facebook.net/en_US/fbevents.js</td>\n",
       "      <td>4452</td>\n",
       "    </tr>\n",
       "    <tr>\n",
       "      <th>99988</th>\n",
       "      <td>80e9f663857fe3a4f3b2826ec5ab4377</td>\n",
       "      <td>2</td>\n",
       "      <td>0.0</td>\n",
       "      <td>99989</td>\n",
       "      <td>https://www.google-analytics.com/analytics.js</td>\n",
       "      <td>4452</td>\n",
       "    </tr>\n",
       "    <tr>\n",
       "      <th>99989</th>\n",
       "      <td>c7e8e84c7b1be9e66c342ed7455f9905</td>\n",
       "      <td>2</td>\n",
       "      <td>1.0</td>\n",
       "      <td>99990</td>\n",
       "      <td>https://connect.facebook.net/signals/config/14...</td>\n",
       "      <td>4452</td>\n",
       "    </tr>\n",
       "    <tr>\n",
       "      <th>9999</th>\n",
       "      <td>492fbeebc1c26c3668bd13d30acd8c96</td>\n",
       "      <td>2</td>\n",
       "      <td>0.0</td>\n",
       "      <td>10000</td>\n",
       "      <td>https://g.alicdn.com/shop/shop-caja/0.0.5/r300...</td>\n",
       "      <td>425</td>\n",
       "    </tr>\n",
       "    <tr>\n",
       "      <th>99990</th>\n",
       "      <td>43b0666c7ea8f468be00fed1ccd57525</td>\n",
       "      <td>2</td>\n",
       "      <td>1.0</td>\n",
       "      <td>99991</td>\n",
       "      <td>https://mc.yandex.ru/metrika/tag.js</td>\n",
       "      <td>4452</td>\n",
       "    </tr>\n",
       "    <tr>\n",
       "      <th>99991</th>\n",
       "      <td></td>\n",
       "      <td>-1</td>\n",
       "      <td>NaN</td>\n",
       "      <td>99992</td>\n",
       "      <td></td>\n",
       "      <td>4452</td>\n",
       "    </tr>\n",
       "    <tr>\n",
       "      <th>99992</th>\n",
       "      <td>371e879fe62067b1a542ec3582a0fa1a</td>\n",
       "      <td>6</td>\n",
       "      <td>0.0</td>\n",
       "      <td>99993</td>\n",
       "      <td>https://www.cgg.gov.in/</td>\n",
       "      <td>4454</td>\n",
       "    </tr>\n",
       "    <tr>\n",
       "      <th>99993</th>\n",
       "      <td>f09080a796102a38571445a34f888781</td>\n",
       "      <td>2</td>\n",
       "      <td>0.0</td>\n",
       "      <td>99994</td>\n",
       "      <td>https://www.cgg.gov.in/helper/js/wp-emoji-rele...</td>\n",
       "      <td>4454</td>\n",
       "    </tr>\n",
       "    <tr>\n",
       "      <th>99994</th>\n",
       "      <td>fd2dfc1ae9cc8124f47402caeb5100d7</td>\n",
       "      <td>2</td>\n",
       "      <td>1.0</td>\n",
       "      <td>99995</td>\n",
       "      <td>https://www.cgg.gov.in/core/plugins/ckeditor-f...</td>\n",
       "      <td>4454</td>\n",
       "    </tr>\n",
       "    <tr>\n",
       "      <th>99995</th>\n",
       "      <td>8610f03fe77640dee8c4cc924e060f12</td>\n",
       "      <td>2</td>\n",
       "      <td>1.0</td>\n",
       "      <td>99996</td>\n",
       "      <td>https://www.cgg.gov.in/helper/js/jquery/jquery...</td>\n",
       "      <td>4454</td>\n",
       "    </tr>\n",
       "    <tr>\n",
       "      <th>99996</th>\n",
       "      <td>7121994eec5320fbe6586463bf9651c2</td>\n",
       "      <td>2</td>\n",
       "      <td>1.0</td>\n",
       "      <td>99997</td>\n",
       "      <td>https://www.cgg.gov.in/helper/js/jquery/jquery...</td>\n",
       "      <td>4454</td>\n",
       "    </tr>\n",
       "    <tr>\n",
       "      <th>99997</th>\n",
       "      <td>2a922b6ebd63d743366b5eeb4b1f6f40</td>\n",
       "      <td>2</td>\n",
       "      <td>0.0</td>\n",
       "      <td>99998</td>\n",
       "      <td>https://googletagmanager.com/gtag/js?id=UA-107...</td>\n",
       "      <td>4454</td>\n",
       "    </tr>\n",
       "    <tr>\n",
       "      <th>99998</th>\n",
       "      <td>80e9f663857fe3a4f3b2826ec5ab4377</td>\n",
       "      <td>2</td>\n",
       "      <td>0.0</td>\n",
       "      <td>99999</td>\n",
       "      <td>https://www.google-analytics.com/analytics.js</td>\n",
       "      <td>4454</td>\n",
       "    </tr>\n",
       "    <tr>\n",
       "      <th>99999</th>\n",
       "      <td>ee092541bc79668e3e0a7b76d2faf00c</td>\n",
       "      <td>2</td>\n",
       "      <td>1.0</td>\n",
       "      <td>100000</td>\n",
       "      <td>https://www.cgg.gov.in/jquery_library.js</td>\n",
       "      <td>4454</td>\n",
       "    </tr>\n",
       "  </tbody>\n",
       "</table>\n",
       "<p>417846 rows × 6 columns</p>\n",
       "</div>"
      ],
      "text/plain": [
       "                            content_hash  content_policy_type  \\\n",
       "0       5f48fc77cac90c4778fa24ec9c57f37d                    2   \n",
       "1       bffc6023835e717c0348c41583e56eba                    2   \n",
       "10      d6784348cabbc2b6b0db7aa1a6c7f1d5                    6   \n",
       "100     133700ce91867800e5b6489adc2e644a                    7   \n",
       "1000    e23415c704caa3067181e404a7d47e95                    2   \n",
       "10000   c8e0d2176bb426a32c4c6a89c3e60390                    2   \n",
       "100000  73e6254903375e432d34c87deaec234a                    2   \n",
       "100001  0aa9e28b4a0be2a105e18f0e718e12cf                    2   \n",
       "100002  5a03f97cc479b9f5d7efdaccec31bc17                    2   \n",
       "100003  95e5ffd5de759d81ed7cd57c2affd429                    2   \n",
       "100004  0bf86097a6196c5e8b9fb9e9ce895d3e                    2   \n",
       "100005  a1d7798f42d099fd12c6ca8c86b11820                    2   \n",
       "100006  938b01cf56ad738474f3f08099bd35e4                    2   \n",
       "100007  0ab828ba59cb570ea7b1c5f44e64775b                    2   \n",
       "100008  a361b18b3e8addd1f2961625d0b55aea                    6   \n",
       "100009  e0e0559014b222245deb26b6ae8bd940                    2   \n",
       "10001   7e384a81a999c688d141ba39112eabba                    2   \n",
       "100010  073b26db486acb1ff9d5db3ce41d1a1d                    2   \n",
       "100011  2a512b6b9be3dfd1b83db7ae4649c220                    2   \n",
       "100012  acdeba3706e93819c406146721a2d95c                    2   \n",
       "100013  4731b9a5626218cb658d4a623b432c68                    2   \n",
       "100014  fd255415839568e52a48da5de5af244c                    2   \n",
       "100015  cad4bec2ecb837754eebb7193b940152                    2   \n",
       "100016  b3072c1e41483335a3612ad1e9763331                    2   \n",
       "100017  4c7fdbc0f53c17460aaa86725146cef0                    2   \n",
       "100018  4c1e95a23d8adb00a73a4b2e6bdb4670                    2   \n",
       "100019  71ad7333c44fe910d0b936c2ead4887b                    2   \n",
       "10002   0e468fea20e8d6955de209802db2d794                    6   \n",
       "100020  23644519aea2a5ed4cf08cbade07165b                    2   \n",
       "100021  72cad92836e27c5e523d15182c9c25cb                    2   \n",
       "...                                  ...                  ...   \n",
       "99972   383a6a9631061ca3e88e36b23c54f866                    7   \n",
       "99973   133700ce91867800e5b6489adc2e644a                    7   \n",
       "99974   133700ce91867800e5b6489adc2e644a                    7   \n",
       "99975   80e9f663857fe3a4f3b2826ec5ab4377                    2   \n",
       "99976                                                       2   \n",
       "99977                                                      -1   \n",
       "99978   1e024f196d4f2f1ce01f995a9e464ddb                    6   \n",
       "99979   c1504a47fa537596f7eae02a2d3822c2                    7   \n",
       "9998    ac527c3ead203637b1985a489d0d773b                    2   \n",
       "99980   434b72c88109d1e1dc8131572ece950c                    2   \n",
       "99981   ae7b328a0c85da55601bcc0820260781                    2   \n",
       "99982   08ec179afda2a7e7cbf34e9e9259b721                    2   \n",
       "99983   b0c316fda849f8d1b69127d0df93026e                    2   \n",
       "99984   19320fdb89563a561d7cf55567893c82                    2   \n",
       "99985   af74df041a24efedfca91d33b7507167                    2   \n",
       "99986   7857bcc81cce13d67ca5ddb7bf6ed852                    2   \n",
       "99987   83824484918afe2f1e60c3da57e6d4f4                    2   \n",
       "99988   80e9f663857fe3a4f3b2826ec5ab4377                    2   \n",
       "99989   c7e8e84c7b1be9e66c342ed7455f9905                    2   \n",
       "9999    492fbeebc1c26c3668bd13d30acd8c96                    2   \n",
       "99990   43b0666c7ea8f468be00fed1ccd57525                    2   \n",
       "99991                                                      -1   \n",
       "99992   371e879fe62067b1a542ec3582a0fa1a                    6   \n",
       "99993   f09080a796102a38571445a34f888781                    2   \n",
       "99994   fd2dfc1ae9cc8124f47402caeb5100d7                    2   \n",
       "99995   8610f03fe77640dee8c4cc924e060f12                    2   \n",
       "99996   7121994eec5320fbe6586463bf9651c2                    2   \n",
       "99997   2a922b6ebd63d743366b5eeb4b1f6f40                    2   \n",
       "99998   80e9f663857fe3a4f3b2826ec5ab4377                    2   \n",
       "99999   ee092541bc79668e3e0a7b76d2faf00c                    2   \n",
       "\n",
       "        eval_function_presence      id  \\\n",
       "0                          1.0       1   \n",
       "1                          0.0       2   \n",
       "10                         0.0      11   \n",
       "100                        0.0     101   \n",
       "1000                       1.0    1001   \n",
       "10000                      1.0   10001   \n",
       "100000                     1.0  100001   \n",
       "100001                     1.0  100002   \n",
       "100002                     0.0  100003   \n",
       "100003                     1.0  100004   \n",
       "100004                     0.0  100005   \n",
       "100005                     0.0  100006   \n",
       "100006                     0.0  100007   \n",
       "100007                     1.0  100008   \n",
       "100008                     0.0  100009   \n",
       "100009                     1.0  100010   \n",
       "10001                      1.0   10002   \n",
       "100010                     0.0  100011   \n",
       "100011                     0.0  100012   \n",
       "100012                     1.0  100013   \n",
       "100013                     1.0  100014   \n",
       "100014                     1.0  100015   \n",
       "100015                     0.0  100016   \n",
       "100016                     1.0  100017   \n",
       "100017                     1.0  100018   \n",
       "100018                     0.0  100019   \n",
       "100019                     1.0  100020   \n",
       "10002                      0.0   10003   \n",
       "100020                     1.0  100021   \n",
       "100021                     0.0  100022   \n",
       "...                        ...     ...   \n",
       "99972                      0.0   99973   \n",
       "99973                      0.0   99974   \n",
       "99974                      0.0   99975   \n",
       "99975                      0.0   99976   \n",
       "99976                      NaN   99977   \n",
       "99977                      NaN   99978   \n",
       "99978                      0.0   99979   \n",
       "99979                      1.0   99980   \n",
       "9998                       0.0    9999   \n",
       "99980                      1.0   99981   \n",
       "99981                      0.0   99982   \n",
       "99982                      1.0   99983   \n",
       "99983                      1.0   99984   \n",
       "99984                      1.0   99985   \n",
       "99985                      0.0   99986   \n",
       "99986                      1.0   99987   \n",
       "99987                      0.0   99988   \n",
       "99988                      0.0   99989   \n",
       "99989                      1.0   99990   \n",
       "9999                       0.0   10000   \n",
       "99990                      1.0   99991   \n",
       "99991                      NaN   99992   \n",
       "99992                      0.0   99993   \n",
       "99993                      0.0   99994   \n",
       "99994                      1.0   99995   \n",
       "99995                      1.0   99996   \n",
       "99996                      1.0   99997   \n",
       "99997                      0.0   99998   \n",
       "99998                      0.0   99999   \n",
       "99999                      1.0  100000   \n",
       "\n",
       "                                               script_url  visit_id  \n",
       "0        https://code.jquery.com/jquery-3.2.1.slim.min.js         2  \n",
       "1       http://hajoopteg.com/feed/assets/default/js/fo...         2  \n",
       "10                        https://www.linuxquestions.org/         3  \n",
       "100     https://pagead2.googlesyndication.com/pagead/s...         4  \n",
       "1000          https://api.useinsider.com/js/squery.min.js        36  \n",
       "10000   https://g.alicdn.com/shop/shop-caja/0.1.0/r300...       425  \n",
       "100000            https://www.cgg.gov.in/slider/jquery.js      4454  \n",
       "100001  https://www.cgg.gov.in/core/themes/edsbootstra...      4454  \n",
       "100002  https://www.cgg.gov.in/helper/js/wp-embed.min....      4454  \n",
       "100003  https://www.cgg.gov.in/core/themes/edsbootstra...      4454  \n",
       "100004  https://www.cgg.gov.in/core/themes/edsbootstra...      4454  \n",
       "100005  https://static.site24x7rum.com/beacon/site24x7...      4454  \n",
       "100006  https://www.cgg.gov.in/slider/jquery.flexslide...      4454  \n",
       "100007      https://2.cdn.echo.msk.ru/assets/modernizr.js      4455  \n",
       "100008                               https://echo.msk.ru/      4455  \n",
       "100009      https://yandex.st/jquery/1.10.2/jquery.min.js      4455  \n",
       "10001   https://g.alicdn.com/shop/kissy-caja/1.3.1/aja...       425  \n",
       "100010    https://www.googletagservices.com/tag/js/gpt.js      4455  \n",
       "100011  https://www.googletagmanager.com/gtm.js?id=GTM...      4455  \n",
       "100012  https://securepubads.g.doubleclick.net/gpt/pub...      4455  \n",
       "100013       https://echo.msk.ru/assets/jquery-migrate.js      4455  \n",
       "100014  https://yandex.st/jquery-ui/1.10.3/jquery-ui.m...      4455  \n",
       "100015  https://2.cdn.echo.msk.ru/assets/head-cdc40370...      4455  \n",
       "100016  https://yastatic.net/pcode/adfox/header-biddin...      4455  \n",
       "100017         https://yastatic.net/pcode/adfox/loader.js      4455  \n",
       "100018            https://ads.vidoomy.com/echomsk_5315.js      4455  \n",
       "100019    https://static.criteo.net/js/ld/publishertag.js      4455  \n",
       "10002                             https://www.xataka.com/       426  \n",
       "100020  https://d31j93rd8oukbv.cloudfront.net/metrika/...      4455  \n",
       "100021           https://target.smi2.net/client/target.js      4455  \n",
       "...                                                   ...       ...  \n",
       "99972   https://googleads.g.doubleclick.net/pagead/ads...      4451  \n",
       "99973   https://pagead2.googlesyndication.com/pagead/s...      4451  \n",
       "99974   https://pagead2.googlesyndication.com/pagead/s...      4451  \n",
       "99975       https://www.google-analytics.com/analytics.js      4451  \n",
       "99976               http://www.google-analytics.com/ga.js      4451  \n",
       "99977                                                          4451  \n",
       "99978                             https://www.italki.com/      4452  \n",
       "99979   https://s7.addthis.com/static/sh.e4e8af4de595f...      4452  \n",
       "9998    https://g.alicdn.com/alilog/aplus_plugin_xwj/i...       425  \n",
       "99980   https://d1m3ds7i7t710d.cloudfront.net/orion/st...      4452  \n",
       "99981   https://d1m3ds7i7t710d.cloudfront.net/orion/st...      4452  \n",
       "99982   https://s7.addthis.com/js/300/addthis_widget.j...      4452  \n",
       "99983   https://d1m3ds7i7t710d.cloudfront.net/orion/st...      4452  \n",
       "99984   https://www.googletagmanager.com/gtm.js?id=GTM...      4452  \n",
       "99985   https://d1m3ds7i7t710d.cloudfront.net/orion/st...      4452  \n",
       "99986   https://cdn.boomtrain.com/p13n/italki-com/p13n...      4452  \n",
       "99987      https://connect.facebook.net/en_US/fbevents.js      4452  \n",
       "99988       https://www.google-analytics.com/analytics.js      4452  \n",
       "99989   https://connect.facebook.net/signals/config/14...      4452  \n",
       "9999    https://g.alicdn.com/shop/shop-caja/0.0.5/r300...       425  \n",
       "99990                 https://mc.yandex.ru/metrika/tag.js      4452  \n",
       "99991                                                          4452  \n",
       "99992                             https://www.cgg.gov.in/      4454  \n",
       "99993   https://www.cgg.gov.in/helper/js/wp-emoji-rele...      4454  \n",
       "99994   https://www.cgg.gov.in/core/plugins/ckeditor-f...      4454  \n",
       "99995   https://www.cgg.gov.in/helper/js/jquery/jquery...      4454  \n",
       "99996   https://www.cgg.gov.in/helper/js/jquery/jquery...      4454  \n",
       "99997   https://googletagmanager.com/gtag/js?id=UA-107...      4454  \n",
       "99998       https://www.google-analytics.com/analytics.js      4454  \n",
       "99999            https://www.cgg.gov.in/jquery_library.js      4454  \n",
       "\n",
       "[417846 rows x 6 columns]"
      ]
     },
     "execution_count": 50,
     "metadata": {},
     "output_type": "execute_result"
    }
   ],
   "source": [
    "temp"
   ]
  },
  {
   "cell_type": "code",
   "execution_count": 53,
   "metadata": {},
   "outputs": [
    {
     "data": {
      "text/plain": [
       "102675    https://cdn.upbit.com/vendors-chunk-fa7c5c5c56...\n",
       "Name: script_url, dtype: object"
      ]
     },
     "execution_count": 53,
     "metadata": {},
     "output_type": "execute_result"
    }
   ],
   "source": [
    "temp[temp['content_hash'].values == '21424a27c98324d45752bc21cecdbfb5']['script_url']"
   ]
  },
  {
   "cell_type": "code",
   "execution_count": 54,
   "metadata": {},
   "outputs": [],
   "source": [
    "df = read_df('/mnt/drive/firefox/parser/labels/2019-06-23_top_10k_random_10k_stateless-ground_truth.json')"
   ]
  },
  {
   "cell_type": "code",
   "execution_count": 55,
   "metadata": {},
   "outputs": [
    {
     "data": {
      "text/plain": [
       "False"
      ]
     },
     "execution_count": 55,
     "metadata": {},
     "output_type": "execute_result"
    }
   ],
   "source": [
    "df['content_hash'].str.contains('78437e88602a3c5674db24cff9ae1481', na=False).any()"
   ]
  },
  {
   "cell_type": "code",
   "execution_count": null,
   "metadata": {},
   "outputs": [],
   "source": []
  }
 ],
 "metadata": {
  "kernelspec": {
   "display_name": "Python 3",
   "language": "python",
   "name": "python3"
  },
  "language_info": {
   "codemirror_mode": {
    "name": "ipython",
    "version": 3
   },
   "file_extension": ".py",
   "mimetype": "text/x-python",
   "name": "python",
   "nbconvert_exporter": "python",
   "pygments_lexer": "ipython3",
   "version": "3.5.2"
  }
 },
 "nbformat": 4,
 "nbformat_minor": 2
}
